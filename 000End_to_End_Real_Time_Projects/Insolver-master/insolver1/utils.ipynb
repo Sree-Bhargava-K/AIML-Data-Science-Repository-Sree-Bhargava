{
 "cells": [
  {
   "cell_type": "code",
   "execution_count": null,
   "metadata": {},
   "outputs": [],
   "source": [
    "import warnings\n",
    "from typing import Type, Union, Optional"
   ]
  },
  {
   "cell_type": "code",
   "execution_count": null,
   "metadata": {},
   "outputs": [],
   "source": [
    "import sys"
   ]
  },
  {
   "cell_type": "code",
   "execution_count": null,
   "metadata": {},
   "outputs": [],
   "source": [
    "if sys.version_info >= (3, 8):\n",
    "    from typing import Literal\n",
    "else:\n",
    "    from typing_extensions import Literal"
   ]
  },
  {
   "cell_type": "code",
   "execution_count": null,
   "metadata": {},
   "outputs": [],
   "source": [
    "expected_type_warning = Literal[\"default\", \"error\", \"ignore\", \"always\", \"module\", \"once\"]"
   ]
  },
  {
   "cell_type": "code",
   "execution_count": null,
   "metadata": {},
   "outputs": [],
   "source": [
    "def warn_insolver(msg: Union[Warning, str], category_: Type[Warning]) -> None:\n",
    "    def warning_format(\n",
    "        message: Union[Warning, str], category: Type[Warning], filename: str, lineno: int, line: Optional[str] = None\n",
    "    ) -> str:\n",
    "        return f\"{category.__name__}: {message}\\n\"\n",
    "    default_format = warnings.formatwarning\n",
    "    warnings.formatwarning = warning_format\n",
    "    warnings.warn(msg, category_)\n",
    "    warnings.formatwarning = default_format"
   ]
  }
 ],
 "metadata": {
  "kernelspec": {
   "display_name": "Python 3",
   "language": "python",
   "name": "python3"
  },
  "language_info": {
   "codemirror_mode": {
    "name": "ipython",
    "version": 3
   },
   "file_extension": ".py",
   "mimetype": "text/x-python",
   "name": "python",
   "nbconvert_exporter": "python",
   "pygments_lexer": "ipython3",
   "version": "3.6.4"
  }
 },
 "nbformat": 4,
 "nbformat_minor": 2
}