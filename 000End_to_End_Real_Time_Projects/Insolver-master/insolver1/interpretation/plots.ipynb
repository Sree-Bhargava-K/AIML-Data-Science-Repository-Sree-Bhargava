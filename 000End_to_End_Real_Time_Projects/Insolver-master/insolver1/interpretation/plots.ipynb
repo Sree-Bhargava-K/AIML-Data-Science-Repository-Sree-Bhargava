{
 "cells": [
  {
   "cell_type": "code",
   "execution_count": null,
   "metadata": {},
   "outputs": [],
   "source": [
    "import warnings\n",
    "import pandas as pd\n",
    "import matplotlib.pyplot as plt\n",
    "from sklearn.inspection import PartialDependenceDisplay\n",
    "from alibi.explainers import ALE, plot_ale\n",
    "from .base import InterpretBase"
   ]
  },
  {
   "cell_type": "code",
   "execution_count": null,
   "metadata": {},
   "outputs": [],
   "source": [
    "warnings.filterwarnings('ignore')"
   ]
  },
  {
   "cell_type": "code",
   "execution_count": null,
   "metadata": {},
   "outputs": [],
   "source": [
    "class ExplanationPlot(InterpretBase):\n",
    "    \"\"\"\n",
    "    Class for creating a plot for interpretation.\n",
    "    Partial Dependence Plot (PDP), Individual Condition Expectation (ICE), Accumulated Local Effects (ALE) are\n",
    "    supported.\n",
    "    Parameters:\n",
    "        method (str): Plot creation method. Values `pdp`, `ice`, `ale`, `ale_aleplot` are supported.\n",
    "        x (pandas.Dataframe, optional): Data to plot.\n",
    "        estimator: A fitted estimator object implementing `predict`,`predict_proba`, or `decision_function`.\n",
    "        features (list): Indices of features for a given plot. A tuple of one integer will plot a partial dependence\n",
    "         curve of one feature. A tuple of two integers will plot a two-way partial dependence curve as a contour plot.\n",
    "        target_names (list): A list of target names for the `ALE` method.\n",
    "    \"\"\"\n",
    "    def __init__(self, method, x, estimator, features, target_names=None):\n",
    "        self.method = method\n",
    "        self.x = x\n",
    "        self.estimator = estimator\n",
    "        self.features = features\n",
    "        self.target_names = target_names\n",
    "    def plot(self, figsize=(10, 10), **kwargs):\n",
    "        \"\"\"\n",
    "        Create plot.\n",
    "        Parameters:\n",
    "            figsize (tuple): Figsize of the plot.\n",
    "            **kwargs: Arguments for the selected function.\n",
    "        Raises:\n",
    "            NotImplementedError: If method is not supported.\n",
    "        \"\"\"\n\n",
    "        # initialize all methods\n",
    "        self._init_methods_dict()\n\n",
    "        # raise error if method is not supported\n",
    "        if self.method:\n",
    "            if self.method not in self.methods_dict.keys():\n",
    "                raise NotImplementedError(f'Method {self.method} is not supported.')\n\n",
    "        # get function and call it\n",
    "        method_func = self.methods_dict[self.method]\n",
    "        method_func(figsize, **kwargs)\n",
    "    def show_explanation(self, instance):\n",
    "        self.plot()\n",
    "    def get_model(self):\n",
    "        \"\"\"\n",
    "        Get model.\n",
    "        \"\"\"\n",
    "        return self.model\n",
    "    def _plot_pdp(self, figsize, **kwargs):\n",
    "        fig, ax = plt.subplots(figsize=figsize)\n",
    "        self.model = PartialDependenceDisplay.from_estimator(\n",
    "            kind='average', estimator=self.estimator, X=self.x, features=self.features, ax=ax, **kwargs\n",
    "        )\n",
    "    def _plot_ice(self, figsize, **kwargs):\n",
    "        fig, ax = plt.subplots(figsize=figsize)\n",
    "        self.model = PartialDependenceDisplay.from_estimator(\n",
    "            kind='both', estimator=self.estimator, X=self.x, features=self.features, ax=ax, **kwargs\n",
    "        )\n",
    "    def _plot_ale(self, figsize, **kwargs):\n",
    "        fig, ax = plt.subplots(figsize=figsize)\n",
    "        self.model = ALE(predictor=self.estimator.predict, feature_names=self.features, target_names=self.target_names)\n\n",
    "        # convert x to numpy if x is pandas.DataFrame\n",
    "        if isinstance(self.x, pd.DataFrame):\n",
    "            X = self.x.to_numpy()\n",
    "        else:\n",
    "            X = self.x\n",
    "        explanation = self.model.explain(X=X)\n",
    "        plot_ale(exp=explanation, ax=ax, **kwargs)\n",
    "    def _init_methods_dict(self):\n",
    "        self.methods_dict = {\n",
    "            'pdp': self._plot_pdp,\n",
    "            'ice': self._plot_ice,\n",
    "            'ale': self._plot_ale,\n",
    "        }"
   ]
  }
 ],
 "metadata": {
  "kernelspec": {
   "display_name": "Python 3",
   "language": "python",
   "name": "python3"
  },
  "language_info": {
   "codemirror_mode": {
    "name": "ipython",
    "version": 3
   },
   "file_extension": ".py",
   "mimetype": "text/x-python",
   "name": "python",
   "nbconvert_exporter": "python",
   "pygments_lexer": "ipython3",
   "version": "3.6.4"
  }
 },
 "nbformat": 4,
 "nbformat_minor": 2
}