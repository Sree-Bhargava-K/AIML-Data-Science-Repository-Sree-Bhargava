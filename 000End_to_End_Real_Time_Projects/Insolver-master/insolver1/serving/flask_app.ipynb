{
 "cells": [
  {
   "cell_type": "code",
   "execution_count": null,
   "metadata": {},
   "outputs": [],
   "source": [
    "import os"
   ]
  },
  {
   "cell_type": "code",
   "execution_count": null,
   "metadata": {},
   "outputs": [],
   "source": [
    "import pandas as pd\n",
    "from flask import Flask, request, jsonify"
   ]
  },
  {
   "cell_type": "code",
   "execution_count": null,
   "metadata": {},
   "outputs": [],
   "source": [
    "from insolver import InsolverDataFrame\n",
    "from insolver.transforms import InsolverTransform, load_transforms\n",
    "from insolver.wrappers import InsolverGLMWrapper, InsolverGBMWrapper\n",
    "from insolver.serving import utils"
   ]
  },
  {
   "cell_type": "markdown",
   "metadata": {},
   "source": [
    "For logging"
   ]
  },
  {
   "cell_type": "code",
   "execution_count": null,
   "metadata": {},
   "outputs": [],
   "source": [
    "import logging\n",
    "import traceback\n",
    "from logging.handlers import RotatingFileHandler\n",
    "from time import strftime, time"
   ]
  },
  {
   "cell_type": "code",
   "execution_count": null,
   "metadata": {},
   "outputs": [],
   "source": [
    "model_path = os.environ['model_path']\n",
    "transforms_path = os.environ['transforms_path']"
   ]
  },
  {
   "cell_type": "markdown",
   "metadata": {},
   "source": [
    "Logging"
   ]
  },
  {
   "cell_type": "code",
   "execution_count": null,
   "metadata": {},
   "outputs": [],
   "source": [
    "handler = RotatingFileHandler('app.log', maxBytes=100000, backupCount=5)\n",
    "logger = logging.getLogger(__name__)\n",
    "logger.setLevel(logging.INFO)\n",
    "logger.addHandler(handler)"
   ]
  },
  {
   "cell_type": "code",
   "execution_count": null,
   "metadata": {},
   "outputs": [],
   "source": [
    "app = Flask(__name__)"
   ]
  },
  {
   "cell_type": "markdown",
   "metadata": {},
   "source": [
    "Load model"
   ]
  },
  {
   "cell_type": "code",
   "execution_count": null,
   "metadata": {},
   "outputs": [],
   "source": [
    "model = utils.load_pickle_model(model_path)\n",
    "if model and model.algo == 'gbm':\n",
    "    model = InsolverGBMWrapper(backend=model.backend, load_path=model_path)\n",
    "elif model and model.algo == 'glm':\n",
    "    model = InsolverGLMWrapper(backend='sklearn', load_path=model_path)\n",
    "else:\n",
    "    model = InsolverGLMWrapper(backend='h2o', load_path=model_path)"
   ]
  },
  {
   "cell_type": "markdown",
   "metadata": {},
   "source": [
    "load transformations"
   ]
  },
  {
   "cell_type": "code",
   "execution_count": null,
   "metadata": {},
   "outputs": [],
   "source": [
    "tranforms = load_transforms(transforms_path)"
   ]
  },
  {
   "cell_type": "code",
   "execution_count": null,
   "metadata": {},
   "outputs": [],
   "source": [
    "@app.route(\"/\")\n",
    "def index():\n",
    "    return \"API for predict service\""
   ]
  },
  {
   "cell_type": "code",
   "execution_count": null,
   "metadata": {},
   "outputs": [],
   "source": [
    "@app.route('/favicon.ico')\n",
    "def favicon():\n",
    "    return ''"
   ]
  },
  {
   "cell_type": "code",
   "execution_count": null,
   "metadata": {},
   "outputs": [],
   "source": [
    "@app.route(\"/predict\", methods=['POST'])\n",
    "def predict():\n",
    "    # Request logging\n",
    "    current_datatime = strftime('[%Y-%b-%d %H:%M:%S]')\n",
    "    ip_address = request.headers.get(\"X-Forwarded-For\", request.remote_addr)\n",
    "    logger.info(f'{current_datatime} request from {ip_address}: {request.json}')\n",
    "    start_prediction = time()\n\n",
    "    # json request\n",
    "    data_dict = request.json\n",
    "    df = pd.DataFrame(data_dict['df'], index=[0])\n",
    "    insdataframe = InsolverDataFrame(df)\n",
    "    # Apply transformations\n",
    "    instransforms = InsolverTransform(insdataframe, tranforms)\n",
    "    instransforms.ins_transform()\n\n",
    "    # Prediction\n",
    "    predicted = model.predict(instransforms)\n",
    "    result = {'predicted': predicted.tolist()}\n\n",
    "    # Response logging\n",
    "    end_prediction = time()\n",
    "    duration = round(end_prediction - start_prediction, 6)\n",
    "    current_datatime = strftime('[%Y-%b-%d %H:%M:%S]')\n",
    "    logger.info(f'{current_datatime} predicted for {duration} msec: {result}\\n')\n",
    "    return jsonify(result)"
   ]
  },
  {
   "cell_type": "code",
   "execution_count": null,
   "metadata": {},
   "outputs": [],
   "source": [
    "@app.errorhandler(Exception)\n",
    "def exceptions(e):\n",
    "    current_datatime = strftime('[%Y-%b-%d %H:%M:%S]')\n",
    "    error_message = traceback.format_exc()\n",
    "    logger.error(\n",
    "        '%s %s %s %s %s 5xx INTERNAL SERVER ERROR\\n%s',\n",
    "        current_datatime,\n",
    "        request.remote_addr,\n",
    "        request.method,\n",
    "        request.scheme,\n",
    "        request.full_path,\n",
    "        error_message,\n",
    "    )\n",
    "    return jsonify({'error': 'Internal Server Error'}), 500"
   ]
  },
  {
   "cell_type": "code",
   "execution_count": null,
   "metadata": {},
   "outputs": [],
   "source": [
    "if __name__ == '__main__':\n",
    "    app.run(debug=True)"
   ]
  }
 ],
 "metadata": {
  "kernelspec": {
   "display_name": "Python 3",
   "language": "python",
   "name": "python3"
  },
  "language_info": {
   "codemirror_mode": {
    "name": "ipython",
    "version": 3
   },
   "file_extension": ".py",
   "mimetype": "text/x-python",
   "name": "python",
   "nbconvert_exporter": "python",
   "pygments_lexer": "ipython3",
   "version": "3.6.4"
  }
 },
 "nbformat": 4,
 "nbformat_minor": 2
}