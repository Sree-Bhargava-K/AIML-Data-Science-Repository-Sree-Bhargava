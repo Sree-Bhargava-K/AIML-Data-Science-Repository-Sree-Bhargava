{
 "cells": [
  {
   "cell_type": "code",
   "execution_count": null,
   "metadata": {},
   "outputs": [],
   "source": [
    "import os\n",
    "import re\n",
    "import glob"
   ]
  },
  {
   "cell_type": "code",
   "execution_count": null,
   "metadata": {},
   "outputs": [],
   "source": [
    "import pandas as pd\n",
    "from sympy import sympify"
   ]
  },
  {
   "cell_type": "code",
   "execution_count": null,
   "metadata": {},
   "outputs": [],
   "source": [
    "from pydantic import BaseModel\n",
    "from fastapi import FastAPI\n",
    "from fastapi.encoders import jsonable_encoder"
   ]
  },
  {
   "cell_type": "code",
   "execution_count": null,
   "metadata": {},
   "outputs": [],
   "source": [
    "from insolver import InsolverDataFrame\n",
    "from insolver.transforms import InsolverTransform, load_transforms\n",
    "from insolver.wrappers import InsolverGLMWrapper, InsolverGBMWrapper\n",
    "from insolver.serving import utils\n",
    "from insolver.configs.settings import FORMULA, FORMULA_CALCULATION, N_CORES, VARIABLES_LIST"
   ]
  },
  {
   "cell_type": "markdown",
   "metadata": {},
   "source": [
    "For logging"
   ]
  },
  {
   "cell_type": "code",
   "execution_count": null,
   "metadata": {},
   "outputs": [],
   "source": [
    "import logging\n",
    "from logging.handlers import RotatingFileHandler\n",
    "from time import time\n",
    "from multiprocessing import Pool"
   ]
  },
  {
   "cell_type": "markdown",
   "metadata": {},
   "source": [
    "add new features"
   ]
  },
  {
   "cell_type": "code",
   "execution_count": null,
   "metadata": {},
   "outputs": [],
   "source": [
    "if os.environ['models_folder'] is not None:\n",
    "    models_folder = os.environ['models_folder']\n",
    "if os.environ['transforms_folder'] is not None:\n",
    "    transforms_folder = os.environ['transforms_folder']\n",
    "if os.environ['config_file'] is not None:\n",
    "    config_file = os.environ['config_file']"
   ]
  },
  {
   "cell_type": "markdown",
   "metadata": {},
   "source": [
    "Logging"
   ]
  },
  {
   "cell_type": "code",
   "execution_count": null,
   "metadata": {},
   "outputs": [],
   "source": [
    "handler = RotatingFileHandler('app.log', maxBytes=100000, backupCount=5)\n",
    "logger = logging.getLogger(__name__)\n",
    "logger.setLevel(logging.INFO)\n",
    "logger.addHandler(handler)"
   ]
  },
  {
   "cell_type": "markdown",
   "metadata": {},
   "source": [
    "print(FORMULA_CALCULATION)<br>\n",
    "print(FORMULA)<br>\n",
    "print(VARIABLES_LIST)<br>\n",
    "print(N_CORES)"
   ]
  },
  {
   "cell_type": "code",
   "execution_count": null,
   "metadata": {},
   "outputs": [],
   "source": [
    "path_models = models_folder\n",
    "path_transforms = transforms_folder"
   ]
  },
  {
   "cell_type": "code",
   "execution_count": null,
   "metadata": {},
   "outputs": [],
   "source": [
    "models = []\n",
    "transforms = []"
   ]
  },
  {
   "cell_type": "markdown",
   "metadata": {},
   "source": [
    "var 1 to upload models"
   ]
  },
  {
   "cell_type": "code",
   "execution_count": null,
   "metadata": {},
   "outputs": [],
   "source": [
    "models = [f for f in glob.glob(path_models + '/*')]\n",
    "models.sort()"
   ]
  },
  {
   "cell_type": "markdown",
   "metadata": {},
   "source": [
    "var 2 to upload models"
   ]
  },
  {
   "cell_type": "code",
   "execution_count": null,
   "metadata": {},
   "outputs": [],
   "source": [
    "transforms = [f for f in glob.glob(path_transforms + '/*')]\n",
    "transforms.sort()"
   ]
  },
  {
   "cell_type": "markdown",
   "metadata": {},
   "source": [
    "print('models:', models)<br>\n",
    "print('transforms:', transforms)"
   ]
  },
  {
   "cell_type": "code",
   "execution_count": null,
   "metadata": {},
   "outputs": [],
   "source": [
    "dict_variables = {}\n",
    "if FORMULA_CALCULATION:\n",
    "    dict_variables = {i: 1 for i in VARIABLES_LIST}"
   ]
  },
  {
   "cell_type": "markdown",
   "metadata": {},
   "source": [
    "list of key objects  of models"
   ]
  },
  {
   "cell_type": "code",
   "execution_count": null,
   "metadata": {},
   "outputs": [],
   "source": [
    "mlist = []\n",
    "tlist = []\n",
    "vlist = []\n",
    "itlist = []"
   ]
  },
  {
   "cell_type": "markdown",
   "metadata": {},
   "source": [
    "Load models once"
   ]
  },
  {
   "cell_type": "code",
   "execution_count": null,
   "metadata": {},
   "outputs": [],
   "source": [
    "for i, model_path in enumerate(models):\n",
    "    # Load model\n",
    "    # print(i, model_path, models[i], transforms[i])\n",
    "    model = utils.load_pickle_model(models[i])\n",
    "    if model and model.algo == 'gbm':\n",
    "        model = InsolverGBMWrapper(backend=model.backend, load_path=models[i])\n",
    "    elif model and model.algo == 'glm':\n",
    "        model = InsolverGLMWrapper(backend='sklearn', load_path=models[i])\n",
    "    else:\n",
    "        model = InsolverGLMWrapper(backend='h2o', load_path=models[i])\n",
    "    mlist.append(model)\n\n",
    "    # load transformations\n",
    "    transformations = load_transforms(transforms[i])\n",
    "    tlist.append(transformations)\n",
    "    regex = re.split(r'[\\s*+()/_\\s]\\s*', models[i])\n",
    "    current_variable_model = list(filter(None, regex))[-2]\n",
    "    regex = re.split(r'[\\s*+()/_\\s]\\s*', transforms[i])\n",
    "    current_variable_transform = list(filter(None, regex))[-2]\n",
    "    vlist.append(current_variable_model)\n",
    "    # print(vlist)"
   ]
  },
  {
   "cell_type": "code",
   "execution_count": null,
   "metadata": {},
   "outputs": [],
   "source": [
    "def pool_inference(pack):\n",
    "    i = pack[1]\n",
    "    df = pack[0]\n",
    "    # print('index', i)\n",
    "    insdataframe = InsolverDataFrame(df)\n",
    "    instransforms = InsolverTransform(insdataframe, tlist[i])\n",
    "    instransforms.ins_transform()\n",
    "    predicted = mlist[i].predict(instransforms)\n",
    "    return [i, predicted[0]]"
   ]
  },
  {
   "cell_type": "code",
   "execution_count": null,
   "metadata": {},
   "outputs": [],
   "source": [
    "app = FastAPI()"
   ]
  },
  {
   "cell_type": "code",
   "execution_count": null,
   "metadata": {},
   "outputs": [],
   "source": [
    "class Data(BaseModel):\n",
    "    df: dict"
   ]
  },
  {
   "cell_type": "code",
   "execution_count": null,
   "metadata": {},
   "outputs": [],
   "source": [
    "@app.get(\"/\")\n",
    "def index():\n",
    "    return \"API for predict service\""
   ]
  }
 ],
 "metadata": {
  "kernelspec": {
   "display_name": "Python 3",
   "language": "python",
   "name": "python3"
  },
  "language_info": {
   "codemirror_mode": {
    "name": "ipython",
    "version": 3
   },
   "file_extension": ".py",
   "mimetype": "text/x-python",
   "name": "python",
   "nbconvert_exporter": "python",
   "pygments_lexer": "ipython3",
   "version": "3.6.4"
  }
 },
 "nbformat": 4,
 "nbformat_minor": 2
}