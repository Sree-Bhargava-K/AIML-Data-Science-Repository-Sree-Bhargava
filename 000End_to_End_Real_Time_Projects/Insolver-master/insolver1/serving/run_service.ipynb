{
 "cells": [
  {
   "cell_type": "code",
   "execution_count": null,
   "metadata": {},
   "outputs": [],
   "source": [
    "import argparse\n",
    "import os\n",
    "from subprocess import Popen, PIPE\n",
    "from pathlib import Path"
   ]
  },
  {
   "cell_type": "code",
   "execution_count": null,
   "metadata": {},
   "outputs": [],
   "source": [
    "SERVING_DIR = Path(__file__).resolve().parent"
   ]
  },
  {
   "cell_type": "code",
   "execution_count": null,
   "metadata": {},
   "outputs": [],
   "source": [
    "def exec_cmd(cmd):\n",
    "    out, err = Popen(f'{cmd}', shell=True, stdout=PIPE).communicate()\n",
    "    print(str(out, 'utf-8'))"
   ]
  },
  {
   "cell_type": "code",
   "execution_count": null,
   "metadata": {},
   "outputs": [],
   "source": [
    "def run():\n",
    "    parser = argparse.ArgumentParser(description='ML API service')\n",
    "    parser.add_argument('-model', action='store', required=False)\n",
    "    parser.add_argument('-transforms', action='store', required=False)\n",
    "    parser.add_argument('-service', action='store', required=False)\n\n",
    "    # add new parameter config file and models and transforms\n",
    "    parser.add_argument('-configfile', action='store', required=False)\n",
    "    parser.add_argument('-transforms_folder', action='store', required=False)\n",
    "    parser.add_argument('-models_folder', action='store', required=False)\n\n",
    "    # gunicorn config\n",
    "    parser.add_argument('-ip', action='store', default='0.0.0.0', required=True)\n",
    "    parser.add_argument('-port', action='store', default=8000, type=int, required=True)\n",
    "    args = parser.parse_args()\n",
    "    if args.model is not None:\n",
    "        print(args.model)\n",
    "        os.environ['model_path'] = args.model\n",
    "    else:\n",
    "        os.environ['model_path'] = ''\n",
    "    if args.transforms is not None:\n",
    "        print(args.transforms)\n",
    "        os.environ['transforms_path'] = args.transforms\n",
    "    else:\n",
    "        os.environ['transforms_path'] = ''\n\n",
    "    # add new config file and models\n",
    "    if args.configfile is not None:\n",
    "        print(args.configfile)\n",
    "        os.environ['config_file'] = args.configfile\n",
    "    else:\n",
    "        os.environ['config_file'] = ''\n",
    "    if args.transforms_folder is not None:\n",
    "        print(args.transforms_folder)\n",
    "        os.environ['transforms_folder'] = args.transforms_folder\n",
    "    else:\n",
    "        os.environ['transforms_folder'] = ''\n",
    "    if args.models_folder is not None:\n",
    "        print(args.models_folder)\n",
    "        os.environ['models_folder'] = args.models_folder\n",
    "    else:\n",
    "        os.environ['models_folder'] = ''\n",
    "    if args.service == 'flask':\n",
    "        cmd = f'gunicorn -b {args.ip}:{args.port} insolver.serving.flask_app:app'\n",
    "        exec_cmd(cmd)\n",
    "    elif args.service == 'fastapi':\n",
    "        cmd = f'gunicorn -b {args.ip}:{args.port} insolver.serving.fastapi_app:app -k uvicorn.workers.UvicornWorker'\n",
    "        exec_cmd(cmd)\n",
    "    if args.service == 'sflask':\n",
    "        cmd = f'gunicorn --worker-class gthread -b {args.ip}:{args.port} insolver.serving.flask_app_several:app'\n",
    "        exec_cmd(cmd)\n",
    "    elif args.service == 'sfastapi':\n",
    "        cmd = (\n",
    "            f'gunicorn -b {args.ip}:{args.port}'\n",
    "            'insolver.serving.fastapi_app_several:app -k uvicorn.workers.UvicornWorker'\n",
    "        )\n",
    "        exec_cmd(cmd)\n",
    "    if args.service == 'django':\n",
    "        django_dir = os.path.join(SERVING_DIR, 'django_insolver')\n",
    "        cmd = f'gunicorn -b {args.ip}:{args.port} --chdir {django_dir} django_insolver.wsgi:application'\n",
    "        exec_cmd(cmd)\n",
    "    else:\n",
    "        print('wrong service, try \"-service flask\" or \"-service fastapi\"')"
   ]
  }
 ],
 "metadata": {
  "kernelspec": {
   "display_name": "Python 3",
   "language": "python",
   "name": "python3"
  },
  "language_info": {
   "codemirror_mode": {
    "name": "ipython",
    "version": 3
   },
   "file_extension": ".py",
   "mimetype": "text/x-python",
   "name": "python",
   "nbconvert_exporter": "python",
   "pygments_lexer": "ipython3",
   "version": "3.6.4"
  }
 },
 "nbformat": 4,
 "nbformat_minor": 2
}