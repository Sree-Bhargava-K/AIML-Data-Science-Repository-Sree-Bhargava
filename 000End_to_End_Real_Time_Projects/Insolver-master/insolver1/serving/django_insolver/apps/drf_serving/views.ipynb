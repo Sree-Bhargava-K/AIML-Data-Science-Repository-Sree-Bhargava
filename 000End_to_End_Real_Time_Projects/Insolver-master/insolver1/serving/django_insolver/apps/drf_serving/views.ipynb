{
 "cells": [
  {
   "cell_type": "code",
   "execution_count": null,
   "metadata": {},
   "outputs": [],
   "source": [
    "import pandas as pd\n",
    "from drf_serving.load_model import model, transforms\n",
    "from insolver import InsolverDataFrame\n",
    "from insolver.transforms import InsolverTransform\n",
    "from rest_framework.views import APIView, Response"
   ]
  },
  {
   "cell_type": "code",
   "execution_count": null,
   "metadata": {},
   "outputs": [],
   "source": [
    "class PredictAPIView(APIView):\n",
    "    def post(self, request):\n",
    "        # json request\n",
    "        df = pd.DataFrame(request.data['df'], index=[0])\n",
    "        insdataframe = InsolverDataFrame(df)\n\n",
    "        # Apply transformations\n",
    "        instransforms = InsolverTransform(insdataframe, transforms)\n",
    "        instransforms.ins_transform()\n\n",
    "        # Prediction\n",
    "        predicted = model.predict(instransforms)\n",
    "        result = {'predicted': predicted.tolist()}\n",
    "        return Response(result)"
   ]
  }
 ],
 "metadata": {
  "kernelspec": {
   "display_name": "Python 3",
   "language": "python",
   "name": "python3"
  },
  "language_info": {
   "codemirror_mode": {
    "name": "ipython",
    "version": 3
   },
   "file_extension": ".py",
   "mimetype": "text/x-python",
   "name": "python",
   "nbconvert_exporter": "python",
   "pygments_lexer": "ipython3",
   "version": "3.6.4"
  }
 },
 "nbformat": 4,
 "nbformat_minor": 2
}