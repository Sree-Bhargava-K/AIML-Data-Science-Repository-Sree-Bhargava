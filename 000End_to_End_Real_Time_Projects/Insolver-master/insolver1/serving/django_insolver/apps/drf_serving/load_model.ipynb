{
 "cells": [
  {
   "cell_type": "code",
   "execution_count": null,
   "metadata": {},
   "outputs": [],
   "source": [
    "import os"
   ]
  },
  {
   "cell_type": "code",
   "execution_count": null,
   "metadata": {},
   "outputs": [],
   "source": [
    "from insolver.transforms import load_transforms\n",
    "from insolver.wrappers import InsolverGLMWrapper, InsolverGBMWrapper\n",
    "from insolver.serving import utils"
   ]
  },
  {
   "cell_type": "code",
   "execution_count": null,
   "metadata": {},
   "outputs": [],
   "source": [
    "from django.conf import settings"
   ]
  },
  {
   "cell_type": "code",
   "execution_count": null,
   "metadata": {},
   "outputs": [],
   "source": [
    "model_path = os.environ['model_path']\n",
    "transforms_path = os.environ['transforms_path']"
   ]
  },
  {
   "cell_type": "markdown",
   "metadata": {},
   "source": [
    "Load model"
   ]
  },
  {
   "cell_type": "code",
   "execution_count": null,
   "metadata": {},
   "outputs": [],
   "source": [
    "model = utils.load_pickle_model(model_path)\n",
    "if model and model.algo == 'gbm':\n",
    "    model = InsolverGBMWrapper(backend=model.backend, load_path=model_path)\n",
    "elif model and model.algo == 'glm':\n",
    "    model = InsolverGLMWrapper(backend='sklearn', load_path=model_path)\n",
    "else:\n",
    "    model = InsolverGLMWrapper(backend='h2o', load_path=model_path)"
   ]
  },
  {
   "cell_type": "markdown",
   "metadata": {},
   "source": [
    "load transformations"
   ]
  },
  {
   "cell_type": "code",
   "execution_count": null,
   "metadata": {},
   "outputs": [],
   "source": [
    "transforms = load_transforms(transforms_path)"
   ]
  }
 ],
 "metadata": {
  "kernelspec": {
   "display_name": "Python 3",
   "language": "python",
   "name": "python3"
  },
  "language_info": {
   "codemirror_mode": {
    "name": "ipython",
    "version": 3
   },
   "file_extension": ".py",
   "mimetype": "text/x-python",
   "name": "python",
   "nbconvert_exporter": "python",
   "pygments_lexer": "ipython3",
   "version": "3.6.4"
  }
 },
 "nbformat": 4,
 "nbformat_minor": 2
}