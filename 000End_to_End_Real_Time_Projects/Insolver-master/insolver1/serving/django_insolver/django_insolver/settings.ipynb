{
 "cells": [
  {
   "cell_type": "code",
   "execution_count": null,
   "metadata": {},
   "outputs": [],
   "source": [
    "import os\n",
    "import sys\n",
    "from pathlib import Path"
   ]
  },
  {
   "cell_type": "markdown",
   "metadata": {},
   "source": [
    "Build paths inside the project like this: BASE_DIR / 'subdir'."
   ]
  },
  {
   "cell_type": "code",
   "execution_count": null,
   "metadata": {},
   "outputs": [],
   "source": [
    "BASE_DIR = Path(__file__).resolve().parent.parent\n",
    "sys.path.insert(0, os.path.join(BASE_DIR, 'apps'))\n",
    "PROJECT_ROOT = Path(__file__).resolve().parent"
   ]
  },
  {
   "cell_type": "markdown",
   "metadata": {},
   "source": [
    "Quick-start development settings - unsuitable for production<br>\n",
    "See https://docs.djangoproject.com/en/4.0/howto/deployment/checklist/"
   ]
  },
  {
   "cell_type": "markdown",
   "metadata": {},
   "source": [
    "SECURITY WARNING: keep the secret key used in production secret!"
   ]
  },
  {
   "cell_type": "code",
   "execution_count": null,
   "metadata": {},
   "outputs": [],
   "source": [
    "SECRET_KEY = 'django-insooosse-mtds(-rt@9&8*3tsa#p^=qx1f9@$(eh9b45#tp65kksu)'"
   ]
  },
  {
   "cell_type": "markdown",
   "metadata": {},
   "source": [
    "SECURITY WARNING: don't run with debug turned on in production!"
   ]
  },
  {
   "cell_type": "code",
   "execution_count": null,
   "metadata": {},
   "outputs": [],
   "source": [
    "DEBUG = True"
   ]
  },
  {
   "cell_type": "code",
   "execution_count": null,
   "metadata": {},
   "outputs": [],
   "source": [
    "ALLOWED_HOSTS = []"
   ]
  },
  {
   "cell_type": "markdown",
   "metadata": {},
   "source": [
    "Application definition"
   ]
  },
  {
   "cell_type": "code",
   "execution_count": null,
   "metadata": {},
   "outputs": [],
   "source": [
    "INSTALLED_APPS = [\n",
    "    'django.contrib.admin',\n",
    "    'django.contrib.auth',\n",
    "    'django.contrib.contenttypes',\n",
    "    'django.contrib.sessions',\n",
    "    'django.contrib.messages',\n",
    "    'django.contrib.staticfiles',\n",
    "    'apps.drf_serving.apps.DrfServingConfig',\n",
    "    'rest_framework',\n",
    "]"
   ]
  },
  {
   "cell_type": "code",
   "execution_count": null,
   "metadata": {},
   "outputs": [],
   "source": [
    "MIDDLEWARE = [\n",
    "    'django.middleware.security.SecurityMiddleware',\n",
    "    'django.contrib.sessions.middleware.SessionMiddleware',\n",
    "    'django.middleware.common.CommonMiddleware',\n",
    "    'django.middleware.csrf.CsrfViewMiddleware',\n",
    "    'django.contrib.auth.middleware.AuthenticationMiddleware',\n",
    "    'django.contrib.messages.middleware.MessageMiddleware',\n",
    "    'django.middleware.clickjacking.XFrameOptionsMiddleware',\n",
    "]"
   ]
  },
  {
   "cell_type": "code",
   "execution_count": null,
   "metadata": {},
   "outputs": [],
   "source": [
    "ROOT_URLCONF = 'django_insolver.urls'"
   ]
  },
  {
   "cell_type": "code",
   "execution_count": null,
   "metadata": {},
   "outputs": [],
   "source": [
    "TEMPLATES = [\n",
    "    {\n",
    "        'BACKEND': 'django.template.backends.django.DjangoTemplates',\n",
    "        'DIRS': [os.path.join(PROJECT_ROOT, 'templates')],\n",
    "        'APP_DIRS': True,\n",
    "        'OPTIONS': {\n",
    "            'context_processors': [\n",
    "                'django.template.context_processors.debug',\n",
    "                'django.template.context_processors.request',\n",
    "                'django.contrib.auth.context_processors.auth',\n",
    "                'django.contrib.messages.context_processors.messages',\n",
    "            ],\n",
    "        },\n",
    "    },\n",
    "]"
   ]
  },
  {
   "cell_type": "code",
   "execution_count": null,
   "metadata": {},
   "outputs": [],
   "source": [
    "WSGI_APPLICATION = 'django_insolver.wsgi.application'"
   ]
  },
  {
   "cell_type": "markdown",
   "metadata": {},
   "source": [
    "Database<br>\n",
    "https://docs.djangoproject.com/en/4.0/ref/settings/#databases"
   ]
  },
  {
   "cell_type": "code",
   "execution_count": null,
   "metadata": {},
   "outputs": [],
   "source": [
    "DATABASES = {\n",
    "    'default': {\n",
    "        'ENGINE': 'django.db.backends.sqlite3',\n",
    "        'NAME': BASE_DIR / 'db.sqlite3',\n",
    "    }\n",
    "}"
   ]
  },
  {
   "cell_type": "code",
   "execution_count": null,
   "metadata": {},
   "outputs": [],
   "source": [
    "CACHES = {\n",
    "    \"default\": {\n",
    "        \"BACKEND\": \"django.core.cache.backends.db.DatabaseCache\",\n",
    "        \"LOCATION\": \"cache_table\",\n",
    "    }\n",
    "}"
   ]
  },
  {
   "cell_type": "markdown",
   "metadata": {},
   "source": [
    "Password validation<br>\n",
    "https://docs.djangoproject.com/en/4.0/ref/settings/#auth-password-validators"
   ]
  },
  {
   "cell_type": "code",
   "execution_count": null,
   "metadata": {},
   "outputs": [],
   "source": [
    "AUTH_PASSWORD_VALIDATORS = [\n",
    "    {\n",
    "        'NAME': 'django.contrib.auth.password_validation.UserAttributeSimilarityValidator',\n",
    "    },\n",
    "    {\n",
    "        'NAME': 'django.contrib.auth.password_validation.MinimumLengthValidator',\n",
    "    },\n",
    "    {\n",
    "        'NAME': 'django.contrib.auth.password_validation.CommonPasswordValidator',\n",
    "    },\n",
    "    {\n",
    "        'NAME': 'django.contrib.auth.password_validation.NumericPasswordValidator',\n",
    "    },\n",
    "]"
   ]
  },
  {
   "cell_type": "markdown",
   "metadata": {},
   "source": [
    "Internationalization<br>\n",
    "https://docs.djangoproject.com/en/4.0/topics/i18n/"
   ]
  },
  {
   "cell_type": "code",
   "execution_count": null,
   "metadata": {},
   "outputs": [],
   "source": [
    "LANGUAGE_CODE = 'ru-Ru'"
   ]
  },
  {
   "cell_type": "code",
   "execution_count": null,
   "metadata": {},
   "outputs": [],
   "source": [
    "TIME_ZONE = 'UTC'"
   ]
  },
  {
   "cell_type": "code",
   "execution_count": null,
   "metadata": {},
   "outputs": [],
   "source": [
    "USE_I18N = True"
   ]
  },
  {
   "cell_type": "code",
   "execution_count": null,
   "metadata": {},
   "outputs": [],
   "source": [
    "USE_TZ = True"
   ]
  },
  {
   "cell_type": "markdown",
   "metadata": {},
   "source": [
    "Static files (CSS, JavaScript, Images)<br>\n",
    "https://docs.djangoproject.com/en/4.0/howto/static-files/"
   ]
  },
  {
   "cell_type": "code",
   "execution_count": null,
   "metadata": {},
   "outputs": [],
   "source": [
    "STATIC_URL = '/static/'\n",
    "STATIC_ROOT = PROJECT_ROOT / 'static'"
   ]
  },
  {
   "cell_type": "markdown",
   "metadata": {},
   "source": [
    "Default primary key field type<br>\n",
    "https://docs.djangoproject.com/en/4.0/ref/settings/#default-auto-field"
   ]
  },
  {
   "cell_type": "code",
   "execution_count": null,
   "metadata": {},
   "outputs": [],
   "source": [
    "DEFAULT_AUTO_FIELD = 'django.db.models.BigAutoField'"
   ]
  }
 ],
 "metadata": {
  "kernelspec": {
   "display_name": "Python 3",
   "language": "python",
   "name": "python3"
  },
  "language_info": {
   "codemirror_mode": {
    "name": "ipython",
    "version": 3
   },
   "file_extension": ".py",
   "mimetype": "text/x-python",
   "name": "python",
   "nbconvert_exporter": "python",
   "pygments_lexer": "ipython3",
   "version": "3.6.4"
  }
 },
 "nbformat": 4,
 "nbformat_minor": 2
}