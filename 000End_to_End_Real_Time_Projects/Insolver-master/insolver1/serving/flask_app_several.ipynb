{
 "cells": [
  {
   "cell_type": "code",
   "execution_count": null,
   "metadata": {},
   "outputs": [],
   "source": [
    "import json\n",
    "import os"
   ]
  },
  {
   "cell_type": "code",
   "execution_count": null,
   "metadata": {},
   "outputs": [],
   "source": [
    "import pandas as pd\n",
    "from flask import Flask, request, jsonify\n",
    "from sympy import sympify"
   ]
  },
  {
   "cell_type": "code",
   "execution_count": null,
   "metadata": {},
   "outputs": [],
   "source": [
    "from insolver import InsolverDataFrame\n",
    "from insolver.transforms import InsolverTransform, load_transforms\n",
    "from insolver.wrappers import InsolverGLMWrapper, InsolverGBMWrapper\n",
    "from insolver.serving import utils\n",
    "from insolver.configs.settings import FORMULA, FORMULA_CALCULATION, N_CORES, VARIABLES_LIST"
   ]
  },
  {
   "cell_type": "code",
   "execution_count": null,
   "metadata": {},
   "outputs": [],
   "source": [
    "import re\n",
    "import glob"
   ]
  },
  {
   "cell_type": "markdown",
   "metadata": {},
   "source": [
    "For logging"
   ]
  },
  {
   "cell_type": "code",
   "execution_count": null,
   "metadata": {},
   "outputs": [],
   "source": [
    "import logging\n",
    "import traceback\n",
    "from logging.handlers import RotatingFileHandler\n",
    "from time import strftime, time"
   ]
  },
  {
   "cell_type": "code",
   "execution_count": null,
   "metadata": {},
   "outputs": [],
   "source": [
    "from multiprocessing import Pool"
   ]
  },
  {
   "cell_type": "markdown",
   "metadata": {},
   "source": [
    "add new features"
   ]
  },
  {
   "cell_type": "code",
   "execution_count": null,
   "metadata": {},
   "outputs": [],
   "source": [
    "if os.environ['models_folder'] is not None:\n",
    "    models_folder = os.environ['models_folder']\n",
    "if os.environ['transforms_folder'] is not None:\n",
    "    transforms_folder = os.environ['transforms_folder']\n",
    "if os.environ['config_file'] is not None:\n",
    "    config_file = os.environ['config_file']"
   ]
  },
  {
   "cell_type": "markdown",
   "metadata": {},
   "source": [
    "Logging"
   ]
  },
  {
   "cell_type": "code",
   "execution_count": null,
   "metadata": {},
   "outputs": [],
   "source": [
    "handler = RotatingFileHandler('app.log', maxBytes=100000, backupCount=5)\n",
    "logger = logging.getLogger(__name__)\n",
    "logger.setLevel(logging.INFO)\n",
    "logger.addHandler(handler)"
   ]
  },
  {
   "cell_type": "code",
   "execution_count": null,
   "metadata": {},
   "outputs": [],
   "source": [
    "path_models = models_folder\n",
    "path_transforms = transforms_folder"
   ]
  },
  {
   "cell_type": "code",
   "execution_count": null,
   "metadata": {},
   "outputs": [],
   "source": [
    "models = []\n",
    "transforms = []"
   ]
  },
  {
   "cell_type": "markdown",
   "metadata": {},
   "source": [
    "var 1 to upload models"
   ]
  },
  {
   "cell_type": "code",
   "execution_count": null,
   "metadata": {},
   "outputs": [],
   "source": [
    "models = [f for f in glob.glob(path_models + '/*')]\n",
    "models.sort()"
   ]
  },
  {
   "cell_type": "markdown",
   "metadata": {},
   "source": [
    "var 2 to upload models"
   ]
  },
  {
   "cell_type": "code",
   "execution_count": null,
   "metadata": {},
   "outputs": [],
   "source": [
    "transforms = [f for f in glob.glob(path_transforms + '/*')]\n",
    "transforms.sort()"
   ]
  },
  {
   "cell_type": "markdown",
   "metadata": {},
   "source": [
    "print('models:', models)<br>\n",
    "print('transforms:', transforms)"
   ]
  },
  {
   "cell_type": "code",
   "execution_count": null,
   "metadata": {},
   "outputs": [],
   "source": [
    "dict_variables = {}\n",
    "if FORMULA_CALCULATION:\n",
    "    dict_variables = {i: 1 for i in VARIABLES_LIST}"
   ]
  },
  {
   "cell_type": "markdown",
   "metadata": {},
   "source": [
    "list of key objects  of models"
   ]
  },
  {
   "cell_type": "code",
   "execution_count": null,
   "metadata": {},
   "outputs": [],
   "source": [
    "mlist = []\n",
    "tlist = []\n",
    "vlist = []\n",
    "itlist = []"
   ]
  },
  {
   "cell_type": "markdown",
   "metadata": {},
   "source": [
    "Load models once"
   ]
  },
  {
   "cell_type": "code",
   "execution_count": null,
   "metadata": {},
   "outputs": [],
   "source": [
    "for i, model_path in enumerate(models):\n",
    "    # Load model\n",
    "    # print(i, model_path, models[i], transforms[i])\n",
    "    model = utils.load_pickle_model(models[i])\n",
    "    if model and model.algo == 'gbm':\n",
    "        model = InsolverGBMWrapper(backend=model.backend, load_path=models[i])\n",
    "    elif model and model.algo == 'glm':\n",
    "        model = InsolverGLMWrapper(backend='sklearn', load_path=models[i])\n",
    "    else:\n",
    "        model = InsolverGLMWrapper(backend='h2o', load_path=models[i])\n",
    "    mlist.append(model)\n\n",
    "    # load transformations\n",
    "    transformations = load_transforms(transforms[i])\n",
    "    tlist.append(transformations)\n",
    "    regex = re.split(r'[\\s*+()/_\\s]\\s*', models[i])\n",
    "    current_variable_model = list(filter(None, regex))[-2]\n",
    "    regex = re.split(r'[\\s*+()/_\\s]\\s*', transforms[i])\n",
    "    current_variable_transform = list(filter(None, regex))[-2]\n",
    "    vlist.append(current_variable_model)\n",
    "    # print(vlist)"
   ]
  },
  {
   "cell_type": "markdown",
   "metadata": {},
   "source": [
    "--------------------"
   ]
  },
  {
   "cell_type": "code",
   "execution_count": null,
   "metadata": {},
   "outputs": [],
   "source": [
    "def pool_inference(pack):\n",
    "    i = pack[1]\n",
    "    # print('index', i)\n",
    "    a_json = json.loads(pack[0])\n",
    "    df = pd.DataFrame.from_dict(a_json, orient='index').T\n",
    "    # df = pd.read_json(pack[0])\n",
    "    insdataframe = InsolverDataFrame(df)\n",
    "    instransforms = InsolverTransform(insdataframe, tlist[i])\n",
    "    instransforms.ins_transform()\n",
    "    predicted = mlist[i].predict(instransforms)\n",
    "    return [i, predicted[0]]"
   ]
  },
  {
   "cell_type": "code",
   "execution_count": null,
   "metadata": {},
   "outputs": [],
   "source": [
    "app = Flask(__name__)\n",
    "app.debug = True"
   ]
  },
  {
   "cell_type": "code",
   "execution_count": null,
   "metadata": {},
   "outputs": [],
   "source": [
    "@app.route(\"/\")\n",
    "def index():\n",
    "    return \"API for predict service\""
   ]
  },
  {
   "cell_type": "code",
   "execution_count": null,
   "metadata": {},
   "outputs": [],
   "source": [
    "@app.route('/favicon.ico')\n",
    "def favicon():\n",
    "    return ''"
   ]
  },
  {
   "cell_type": "code",
   "execution_count": null,
   "metadata": {},
   "outputs": [],
   "source": [
    "@app.route(\"/predict\", methods=['POST'])\n",
    "def predict():\n",
    "    # Request logging\n",
    "    current_datatime = strftime('[%Y-%b-%d %H:%M:%S]')\n",
    "    ip_address = request.headers.get(\"X-Forwarded-For\", request.remote_addr)\n",
    "    logger.info(f'{current_datatime} request from {ip_address}: {request.json}')\n",
    "    start_prediction = time()\n",
    "    json_input = request.json\n",
    "    json_str = json.dumps(json_input['df'])\n\n",
    "    # print(json_input)\n",
    "    pack = list([(json_str, i) for i in range(0, len(mlist))])\n",
    "    with Pool(N_CORES) as p:\n",
    "        result_pool = p.map(pool_inference, pack)\n",
    "    for i, vari in enumerate(vlist):\n",
    "        dict_variables[vari] = result_pool[i][1]\n\n",
    "    # Response logging\n",
    "    formula_sympy = sympify(FORMULA)\n",
    "    result = float(formula_sympy.subs(dict_variables).evalf())\n\n",
    "    # print(result)\n",
    "    end_prediction = time()\n",
    "    duration = round(end_prediction - start_prediction, 6)\n",
    "    current_datatime = strftime('[%Y-%b-%d %H:%M:%S]')\n",
    "    logger.info(f'{current_datatime} predicted for {duration} msec: {result}\\n')\n",
    "    result = {'result': result, 'duration': duration}\n",
    "    return jsonify(result)"
   ]
  },
  {
   "cell_type": "code",
   "execution_count": null,
   "metadata": {},
   "outputs": [],
   "source": [
    "@app.errorhandler(Exception)\n",
    "def exceptions(e):\n",
    "    current_datatime = strftime('[%Y-%b-%d %H:%M:%S]')\n",
    "    error_message = traceback.format_exc()\n",
    "    logger.error(\n",
    "        '%s %s %s %s %s 5xx INTERNAL SERVER ERROR\\n%s',\n",
    "        current_datatime,\n",
    "        request.remote_addr,\n",
    "        request.method,\n",
    "        request.scheme,\n",
    "        request.full_path,\n",
    "        error_message,\n",
    "    )\n",
    "    return jsonify({'error': 'Internal Server Error'}), 500"
   ]
  },
  {
   "cell_type": "code",
   "execution_count": null,
   "metadata": {},
   "outputs": [],
   "source": [
    "if __name__ == '__main__':\n",
    "    app.run()  # threaded=True, port = 5000"
   ]
  }
 ],
 "metadata": {
  "kernelspec": {
   "display_name": "Python 3",
   "language": "python",
   "name": "python3"
  },
  "language_info": {
   "codemirror_mode": {
    "name": "ipython",
    "version": 3
   },
   "file_extension": ".py",
   "mimetype": "text/x-python",
   "name": "python",
   "nbconvert_exporter": "python",
   "pygments_lexer": "ipython3",
   "version": "3.6.4"
  }
 },
 "nbformat": 4,
 "nbformat_minor": 2
}