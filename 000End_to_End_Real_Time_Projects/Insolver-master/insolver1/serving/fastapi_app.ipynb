{
 "cells": [
  {
   "cell_type": "code",
   "execution_count": null,
   "metadata": {},
   "outputs": [],
   "source": [
    "import os"
   ]
  },
  {
   "cell_type": "code",
   "execution_count": null,
   "metadata": {},
   "outputs": [],
   "source": [
    "import pandas as pd\n",
    "from fastapi import FastAPI\n",
    "from pydantic import BaseModel"
   ]
  },
  {
   "cell_type": "code",
   "execution_count": null,
   "metadata": {},
   "outputs": [],
   "source": [
    "from insolver import InsolverDataFrame\n",
    "from insolver.serving import utils\n",
    "from insolver.transforms import InsolverTransform, load_transforms\n",
    "from insolver.wrappers import InsolverGLMWrapper, InsolverGBMWrapper"
   ]
  },
  {
   "cell_type": "code",
   "execution_count": null,
   "metadata": {},
   "outputs": [],
   "source": [
    "model_path = os.environ['model_path']\n",
    "transforms_path = os.environ['transforms_path']"
   ]
  },
  {
   "cell_type": "markdown",
   "metadata": {},
   "source": [
    "Load model"
   ]
  },
  {
   "cell_type": "code",
   "execution_count": null,
   "metadata": {},
   "outputs": [],
   "source": [
    "model = utils.load_pickle_model(model_path)\n",
    "if model and model.algo == 'gbm':\n",
    "    model = InsolverGBMWrapper(backend=model.backend, load_path=model_path)\n",
    "elif model and model.algo == 'glm':\n",
    "    model = InsolverGLMWrapper(backend='sklearn', load_path=model_path)\n",
    "else:\n",
    "    model = InsolverGLMWrapper(backend='h2o', load_path=model_path)"
   ]
  },
  {
   "cell_type": "markdown",
   "metadata": {},
   "source": [
    "load transformations"
   ]
  },
  {
   "cell_type": "code",
   "execution_count": null,
   "metadata": {},
   "outputs": [],
   "source": [
    "tranforms = load_transforms(transforms_path)"
   ]
  },
  {
   "cell_type": "code",
   "execution_count": null,
   "metadata": {},
   "outputs": [],
   "source": [
    "app = FastAPI()"
   ]
  },
  {
   "cell_type": "code",
   "execution_count": null,
   "metadata": {},
   "outputs": [],
   "source": [
    "class Data(BaseModel):\n",
    "    df: dict"
   ]
  },
  {
   "cell_type": "code",
   "execution_count": null,
   "metadata": {},
   "outputs": [],
   "source": [
    "@app.get(\"/\")\n",
    "def index():\n",
    "    return \"API for predict service\""
   ]
  },
  {
   "cell_type": "code",
   "execution_count": null,
   "metadata": {},
   "outputs": [],
   "source": [
    "@app.post(\"/predict\")\n",
    "async def predict(data: Data):\n",
    "    # Extract data in correct order\n",
    "    data_dict = data.dict()\n",
    "    df = pd.DataFrame(data_dict['df'], index=[0])\n",
    "    insdataframe = InsolverDataFrame(df)\n",
    "    # Apply transformations\n",
    "    instransforms = InsolverTransform(insdataframe, tranforms)\n",
    "    instransforms.ins_transform()\n\n",
    "    # Prediction\n",
    "    predicted = model.predict(instransforms)\n",
    "    result = {'predicted': predicted.tolist()}\n",
    "    return result"
   ]
  }
 ],
 "metadata": {
  "kernelspec": {
   "display_name": "Python 3",
   "language": "python",
   "name": "python3"
  },
  "language_info": {
   "codemirror_mode": {
    "name": "ipython",
    "version": 3
   },
   "file_extension": ".py",
   "mimetype": "text/x-python",
   "name": "python",
   "nbconvert_exporter": "python",
   "pygments_lexer": "ipython3",
   "version": "3.6.4"
  }
 },
 "nbformat": 4,
 "nbformat_minor": 2
}