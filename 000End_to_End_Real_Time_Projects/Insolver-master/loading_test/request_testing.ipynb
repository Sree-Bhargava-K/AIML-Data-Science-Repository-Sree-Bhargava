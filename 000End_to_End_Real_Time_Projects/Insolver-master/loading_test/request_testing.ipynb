{
 "cells": [
  {
   "cell_type": "code",
   "execution_count": null,
   "metadata": {},
   "outputs": [],
   "source": [
    "req_json_ml_ok = {\n",
    "    \"df\": {\n",
    "        \"ID\": {\"73490\": \"A-2707438\"},\n",
    "        \"Source\": {\"73490\": \"Bing\"},\n",
    "        \"TMC\": {\"73490\": \"None\"},\n",
    "        \"Severity\": {\"73490\": 2},\n",
    "        \"Start_Time\": {\"73490\": \"2017-07-07 11:12:16\"},\n",
    "        \"End_Time\": {\"73490\": \"2017-07-07 17:12:16\"},\n",
    "        \"Start_Lat\": {\"73490\": 40.64359},\n",
    "        \"Start_Lng\": {\"73490\": -74.65959},\n",
    "        \"End_Lat\": {\"73490\": 40.64265},\n",
    "        \"End_Lng\": {\"73490\": -74.63877},\n",
    "        \"Distance(mi)\": {\"73490\": 1.093},\n",
    "        \"Description\": {\"73490\": \"At I-287/Exit 29 - Accident.\"},\n",
    "        \"Number\": {\"73490\": \"None\"},\n",
    "        \"Street\": {\"73490\": \"I-78 E\"},\n",
    "        \"Side\": {\"73490\": \"R\"},\n",
    "        \"City\": {\"73490\": \"Bedminster\"},\n",
    "        \"County\": {\"73490\": \"Somerset\"},\n",
    "        \"State\": {\"73490\": \"NJ\"},\n",
    "        \"Zipcode\": {\"73490\": \"07921\"},\n",
    "        \"Country\": {\"73490\": \"US\"},\n",
    "        \"Timezone\": {\"73490\": \"US/Eastern\"},\n",
    "        \"Airport_Code\": {\"73490\": \"KSMQ\"},\n",
    "        \"Weather_Timestamp\": {\"73490\": \"2017-07-07 10:53:00\"},\n",
    "        \"Temperature(F)\": {\"73490\": 71.1},\n",
    "        \"Wind_Chill(F)\": {\"73490\": \"None\"},\n",
    "        \"Humidity(%)\": {\"73490\": 93.0},\n",
    "        \"Pressure(in)\": {\"73490\": 29.77},\n",
    "        \"Visibility(mi)\": {\"73490\": 7.0},\n",
    "        \"Wind_Direction\": {\"73490\": \"North\"},\n",
    "        \"Wind_Speed(mph)\": {\"73490\": 5.8},\n",
    "        \"Precipitation(in)\": {\"73490\": 0.36},\n",
    "        \"Weather_Condition\": {\"73490\": \"Light Rain\"},\n",
    "        \"Amenity\": {\"73490\": \"False\"},\n",
    "        \"Bump\": {\"73490\": \"False\"},\n",
    "        \"Crossing\": {\"73490\": \"False\"},\n",
    "        \"Give_Way\": {\"73490\": \"False\"},\n",
    "        \"Junction\": {\"73490\": \"False\"},\n",
    "        \"No_Exit\": {\"73490\": \"False\"},\n",
    "        \"Railway\": {\"73490\": \"False\"},\n",
    "        \"Roundabout\": {\"73490\": \"False\"},\n",
    "        \"Station\": {\"73490\": \"False\"},\n",
    "        \"Stop\": {\"73490\": \"False\"},\n",
    "        \"Traffic_Calming\": {\"73490\": \"False\"},\n",
    "        \"Traffic_Signal\": {\"73490\": \"False\"},\n",
    "        \"Turning_Loop\": {\"73490\": \"False\"},\n",
    "        \"Sunrise_Sunset\": {\"73490\": \"Day\"},\n",
    "        \"Civil_Twilight\": {\"73490\": \"Day\"},\n",
    "        \"Nautical_Twilight\": {\"73490\": \"Day\"},\n",
    "        \"Astronomical_Twilight\": {\"73490\": \"Day\"},\n",
    "    }\n",
    "}"
   ]
  }
 ],
 "metadata": {
  "kernelspec": {
   "display_name": "Python 3",
   "language": "python",
   "name": "python3"
  },
  "language_info": {
   "codemirror_mode": {
    "name": "ipython",
    "version": 3
   },
   "file_extension": ".py",
   "mimetype": "text/x-python",
   "name": "python",
   "nbconvert_exporter": "python",
   "pygments_lexer": "ipython3",
   "version": "3.6.4"
  }
 },
 "nbformat": 4,
 "nbformat_minor": 2
}