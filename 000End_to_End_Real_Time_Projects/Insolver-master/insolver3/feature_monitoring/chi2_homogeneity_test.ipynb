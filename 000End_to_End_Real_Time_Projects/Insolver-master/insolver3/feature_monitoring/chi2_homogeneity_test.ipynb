{
 "cells": [
  {
   "cell_type": "code",
   "execution_count": null,
   "metadata": {},
   "outputs": [],
   "source": [
    "import numpy as np\n",
    "from scipy import stats as sps\n",
    "from collections import defaultdict"
   ]
  },
  {
   "cell_type": "code",
   "execution_count": null,
   "metadata": {},
   "outputs": [],
   "source": [
    "class Chi2Result:\n",
    "    \"\"\"\n",
    "    This class is made for returning result of chi-square test in scipy style\n",
    "    (like a structure with two named fields).\n",
    "    Parameters:\n",
    "        statistic (float): value of counted chi-square statistic.\n",
    "        pvalue (float): pvalue corresponding to this statistic.\n",
    "    \"\"\"\n",
    "    def __init__(self, statistic: float, pvalue: float):\n",
    "        self.statistic = statistic\n",
    "        self.pvalue = pvalue"
   ]
  },
  {
   "cell_type": "code",
   "execution_count": null,
   "metadata": {},
   "outputs": [],
   "source": [
    "def chi2_discr_2samp(x1: np.ndarray, x2: np.ndarray) -> \"Chi2Result\":\n",
    "    \"\"\"\n",
    "    This function runs chi-square test checking homogeneity of two samples\n",
    "    of discrete variables.\n",
    "    Parameters:\n",
    "        x1 (np.array): sample from base period.\n",
    "        x2 (np.array): sample from current period.\n",
    "    Returns:\n",
    "        res (Chi2Result): object containing counted statistic and corresponding pvalue.\n",
    "    \"\"\"\n",
    "    n1, n2 = len(x1), len(x2)\n\n",
    "    # find unique categories and their frequencies in both arrays\n",
    "    cats1, counts1 = np.unique(x1, return_counts=True)\n",
    "    counts1 = defaultdict(int, zip(cats1, counts1))\n",
    "    cats2, counts2 = np.unique(x2, return_counts=True)\n",
    "    counts2 = defaultdict(int, zip(cats2, counts2))\n",
    "    cats = np.union1d(cats1, cats2)\n",
    "    num_cats = len(cats)\n\n",
    "    # if both samples consist of only one constant\n",
    "    # value we consider statistic to be zero\n",
    "    if num_cats == 1:\n",
    "        return Chi2Result(0.0, 1.0)\n\n",
    "    # calculate statistic\n",
    "    chi2 = 0.0\n",
    "    for cat in cats:\n",
    "        mu_i = counts1[cat]\n",
    "        nu_i = counts2[cat]\n",
    "        chi2 += ((mu_i / n1 - nu_i / n2) ** 2) / (mu_i + nu_i)\n",
    "    chi2 *= n1 * n2\n\n",
    "    # count pvalue\n",
    "    pvalue = 1 - sps.chi2.cdf(chi2, num_cats - 1)\n",
    "    res = Chi2Result(chi2, pvalue)\n",
    "    return res"
   ]
  }
 ],
 "metadata": {
  "kernelspec": {
   "display_name": "Python 3",
   "language": "python",
   "name": "python3"
  },
  "language_info": {
   "codemirror_mode": {
    "name": "ipython",
    "version": 3
   },
   "file_extension": ".py",
   "mimetype": "text/x-python",
   "name": "python",
   "nbconvert_exporter": "python",
   "pygments_lexer": "ipython3",
   "version": "3.6.4"
  }
 },
 "nbformat": 4,
 "nbformat_minor": 2
}