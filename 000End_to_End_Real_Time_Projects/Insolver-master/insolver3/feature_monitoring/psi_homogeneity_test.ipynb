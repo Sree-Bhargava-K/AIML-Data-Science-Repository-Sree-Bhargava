{
 "cells": [
  {
   "cell_type": "code",
   "execution_count": null,
   "metadata": {},
   "outputs": [],
   "source": [
    "import numpy as np\n",
    "from math import inf\n",
    "from collections import defaultdict\n",
    "from typing import Iterable, Union"
   ]
  },
  {
   "cell_type": "code",
   "execution_count": null,
   "metadata": {},
   "outputs": [],
   "source": [
    "def sec_min(x: Iterable) -> Union[float, int]:\n",
    "    \"\"\"\n",
    "    This function counts second minimum of an array.\n",
    "    Parameters:\n",
    "        x (iterable): array for counting minimum. Must support finding min.\n",
    "    Returns:\n",
    "        sec_min (float or int): second minimum after main.\n",
    "    \"\"\"\n",
    "    min1 = min(x)\n",
    "    min2 = inf\n",
    "    for val in x:\n",
    "        if val == min1:\n",
    "            continue\n",
    "        min2 = min(min2, val)\n",
    "    return min2"
   ]
  },
  {
   "cell_type": "code",
   "execution_count": null,
   "metadata": {},
   "outputs": [],
   "source": [
    "def psi_cont_2samp(x1: np.ndarray, x2: np.ndarray, nan_value: float = -1.0, buckets: int = 20) -> float:\n",
    "    \"\"\"\n",
    "    This function counts population stability index (PSI)\n",
    "    between two samples of continuous variables.\n",
    "    Parameters:\n",
    "        x1 (np.array): sample from base period.\n",
    "        x2 (np.array): sample from current period.\n",
    "        nan_value (float): value used to fill nans in arrays. Must be the smallest element in each array.\n",
    "        buckets (int): number of bins for calculating psi. 20 by default.\n",
    "    Returns:\n",
    "        psi_value (float): psi between x1 and x2.\n",
    "    Raises:\n",
    "        ValueError: if x1 or x2 contain elements smaller than 'nan_value'.\n",
    "    \"\"\"\n",
    "    if (np.min(x1) < nan_value) or (np.min(x2) < nan_value):\n",
    "        raise ValueError(\"Elements of x1 and x2 can't be smaller than 'nan_value' for counting psi.\")\n\n",
    "    # build grid for histograms\n",
    "    min_ = min(np.min(x1), np.min(x2))\n",
    "    max_ = max(np.max(x1), np.max(x2))\n",
    "    grid = np.array([])\n",
    "    if min_ > nan_value:\n",
    "        grid = np.linspace(min_, max_, buckets + 1)\n",
    "    elif min_ == nan_value:\n",
    "        sec_min1 = sec_min(x1)\n",
    "        sec_min2 = sec_min(x2)\n",
    "        sec_min_ = min(sec_min1, sec_min2)\n",
    "        main_grid = np.linspace(sec_min_, max_, buckets)\n",
    "        grid = np.concatenate([[nan_value], main_grid])\n\n",
    "    # count number of elements in buckets\n",
    "    old_percents = np.histogram(x1, grid)[0] / len(x1)\n",
    "    new_percents = np.histogram(x2, grid)[0] / len(x2)\n\n",
    "    # fill empty buckets with nonzero value (to avoid zero-division)\n",
    "    old_percents[old_percents == 0] = 1e-4\n",
    "    new_percents[new_percents == 0] = 1e-4\n\n",
    "    # resulting psi\n",
    "    psi_value = (old_percents - new_percents) @ np.log(old_percents / new_percents)\n",
    "    return psi_value"
   ]
  },
  {
   "cell_type": "code",
   "execution_count": null,
   "metadata": {},
   "outputs": [],
   "source": [
    "def psi_discr_2samp(x1: np.ndarray, x2: np.ndarray) -> float:\n",
    "    \"\"\"\n",
    "    This function counts psi_value between two samples of discrete variables.\n",
    "    Parameters:\n",
    "        x1 (np.array): sample from base period.\n",
    "        x2 (np.array): sample from current period.\n",
    "    Returns:\n",
    "        psi_value (float): psi between x1 and x2.\n",
    "    \"\"\"\n",
    "    n1, n2 = len(x1), len(x2)\n\n",
    "    # find unique categories and their frequencies in both arrays\n",
    "    cats1, counts1 = np.unique(x1, return_counts=True)\n",
    "    counts1 = defaultdict(int, zip(cats1, counts1))\n",
    "    cats2, counts2 = np.unique(x2, return_counts=True)\n",
    "    counts2 = defaultdict(int, zip(cats2, counts2))\n",
    "    cats = np.union1d(cats1, cats2)\n",
    "    num_cats = len(cats)\n\n",
    "    # if both samples consist of only one constant\n",
    "    # value we consider statistic to be zero\n",
    "    if num_cats == 1:\n",
    "        return 0.0\n\n",
    "    # count frequencies for each category\n",
    "    old_percents = np.zeros([num_cats], dtype=float)\n",
    "    new_percents = np.zeros([num_cats], dtype=float)\n",
    "    for i, cat in enumerate(cats):\n",
    "        old_percents[i] = counts1[cat] / n1\n",
    "        new_percents[i] = counts2[cat] / n2\n\n",
    "    # fill empty buckets with nonzero value (to avoid zero-division)\n",
    "    old_percents[old_percents == 0] = 1e-4\n",
    "    new_percents[new_percents == 0] = 1e-4\n\n",
    "    # resulting psi\n",
    "    psi_value = (old_percents - new_percents) @ np.log(old_percents / new_percents)\n",
    "    return psi_value"
   ]
  }
 ],
 "metadata": {
  "kernelspec": {
   "display_name": "Python 3",
   "language": "python",
   "name": "python3"
  },
  "language_info": {
   "codemirror_mode": {
    "name": "ipython",
    "version": 3
   },
   "file_extension": ".py",
   "mimetype": "text/x-python",
   "name": "python",
   "nbconvert_exporter": "python",
   "pygments_lexer": "ipython3",
   "version": "3.6.4"
  }
 },
 "nbformat": 4,
 "nbformat_minor": 2
}