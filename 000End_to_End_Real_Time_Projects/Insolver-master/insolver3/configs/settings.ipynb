{
 "cells": [
  {
   "cell_type": "markdown",
   "metadata": {},
   "source": [
    "\n<br>\n",
    "Insolver settings for project.<br>\n",
    ""
   ]
  },
  {
   "cell_type": "markdown",
   "metadata": {},
   "source": [
    "Will ot work with formula from settings file?"
   ]
  },
  {
   "cell_type": "code",
   "execution_count": null,
   "metadata": {},
   "outputs": [],
   "source": [
    "FORMULA_CALCULATION = True"
   ]
  },
  {
   "cell_type": "markdown",
   "metadata": {},
   "source": [
    "Variables list from formula"
   ]
  },
  {
   "cell_type": "code",
   "execution_count": null,
   "metadata": {},
   "outputs": [],
   "source": [
    "VARIABLES_LIST = ['cf1', 'ac1', 'cf2', 'ac2', 'cf3', 'ac3', 'cf4', 'ac4', 'cf5', 'ac51', 'ac52', 'cf6', 'ac6']\n",
    "# VARIABLES_LIST = ['cf1', 'cf2']"
   ]
  },
  {
   "cell_type": "markdown",
   "metadata": {},
   "source": [
    "models should be in models folder with _model postfix and transformation should be with _transform postfix:<br>\n",
    "for example for models: cf1_model, ac1_model and for transformations cf1_transform, ac1_transform"
   ]
  },
  {
   "cell_type": "markdown",
   "metadata": {},
   "source": [
    "Final formula for calculation, variables should be from variables list"
   ]
  },
  {
   "cell_type": "code",
   "execution_count": null,
   "metadata": {},
   "outputs": [],
   "source": [
    "FORMULA = \"cf1 * ac1 + cf2 * ac2 + cf3 * ac3 + cf4 * ac4 + cf5 * (ac51 + ac52) + cf6 * ac6\"\n",
    "# FORMULA = \"cf1 + cf2\""
   ]
  },
  {
   "cell_type": "markdown",
   "metadata": {},
   "source": [
    "Number of cores for model inference"
   ]
  },
  {
   "cell_type": "code",
   "execution_count": null,
   "metadata": {},
   "outputs": [],
   "source": [
    "N_CORES = 10"
   ]
  }
 ],
 "metadata": {
  "kernelspec": {
   "display_name": "Python 3",
   "language": "python",
   "name": "python3"
  },
  "language_info": {
   "codemirror_mode": {
    "name": "ipython",
    "version": 3
   },
   "file_extension": ".py",
   "mimetype": "text/x-python",
   "name": "python",
   "nbconvert_exporter": "python",
   "pygments_lexer": "ipython3",
   "version": "3.6.4"
  }
 },
 "nbformat": 4,
 "nbformat_minor": 2
}