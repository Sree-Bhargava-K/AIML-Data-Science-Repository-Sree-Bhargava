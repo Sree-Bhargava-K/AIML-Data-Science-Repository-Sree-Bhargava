{
 "cells": [
  {
   "cell_type": "code",
   "execution_count": null,
   "metadata": {},
   "outputs": [],
   "source": [
    "import os\n",
    "import time\n",
    "import json\n",
    "from io import BytesIO\n",
    "from os import PathLike\n",
    "from copy import deepcopy\n",
    "from zipfile import ZipFile, ZIP_DEFLATED\n",
    "from typing import Union, Any, Dict, Callable, Optional"
   ]
  },
  {
   "cell_type": "code",
   "execution_count": null,
   "metadata": {},
   "outputs": [],
   "source": [
    "import sys"
   ]
  },
  {
   "cell_type": "code",
   "execution_count": null,
   "metadata": {},
   "outputs": [],
   "source": [
    "if sys.version_info >= (3, 8):\n",
    "    from typing import Literal\n",
    "else:\n",
    "    from typing_extensions import Literal"
   ]
  },
  {
   "cell_type": "code",
   "execution_count": null,
   "metadata": {},
   "outputs": [],
   "source": [
    "from .utils.req_utils import get_requirements"
   ]
  },
  {
   "cell_type": "code",
   "execution_count": null,
   "metadata": {},
   "outputs": [],
   "source": [
    "class InsolverWrapperWarning(Warning):\n",
    "    def __init__(self, message: str) -> None:\n",
    "        self.message = message\n",
    "    def __str__(self) -> str:\n",
    "        return repr(self.message)"
   ]
  },
  {
   "cell_type": "code",
   "execution_count": null,
   "metadata": {},
   "outputs": [],
   "source": [
    "class InsolverBaseWrapper:\n",
    "    \"\"\"Base wrapper serving as a building block for other wrappers.\"\"\"\n",
    "    model: Any = None\n",
    "    metadata: Dict[str, Any] = dict()\n",
    "    backend: str = ''\n",
    "    task: str = ''\n",
    "    algo: str = ''\n",
    "    _backend_saving_methods: Dict[str, Dict[str, Callable]] = dict()\n",
    "    _model_cached: Any = None\n",
    "    def __call__(self) -> Any:\n",
    "        return self.model\n",
    "    def _get_init_args(self, vars_: Any) -> None:\n",
    "        copy_vars = deepcopy(vars_)\n",
    "        copy_vars.pop(\"self\")\n",
    "        self.metadata = {\"init_params\": copy_vars, 'is_fitted': False, 'algo': self.__class__.algo}\n",
    "    def _update_metadata(self) -> None:\n",
    "        _metadata = self.__dict__.copy()\n",
    "        _metadata = {\n",
    "            key: _metadata[key] for key in _metadata if not (key in ['model', 'metadata'] or key.startswith('_'))\n",
    "        }\n",
    "        self.metadata.update(_metadata)\n",
    "    def _save_insolver(self, path_or_buf: Union[str, 'PathLike[str]'], method: Callable, **kwargs: Any) -> None:\n",
    "        buffer = BytesIO()\n",
    "        with ZipFile(buffer, mode=\"w\", compression=ZIP_DEFLATED, compresslevel=9) as zip_file:\n",
    "            zip_file.writestr(\"metadata.json\", json.dumps(self.metadata))\n",
    "            zip_file.writestr(\"requirements.txt\", get_requirements())\n",
    "            zip_file.writestr(\n",
    "                f\"model_{os.path.basename(path_or_buf)}\",\n",
    "                BytesIO(method(self, path_or_buf=None, **kwargs)).getvalue(),\n",
    "            )\n",
    "        with open(path_or_buf if str(path_or_buf).endswith('.zip') else f'{path_or_buf}.zip', \"wb\") as f:\n",
    "            f.write(buffer.getvalue())\n",
    "    def save_model(\n",
    "        self,\n",
    "        path_or_buf: Union[None, str, 'PathLike[str]'] = None,\n",
    "        mode: Literal['insolver', 'raw'] = \"insolver\",\n",
    "        method: str = '',\n",
    "        **kwargs: Any,\n",
    "    ) -> Union[str, bytes]:\n",
    "        \"\"\"Saving the model contained in wrapper.\n",
    "        Args:\n",
    "            path_or_buf (str, os.PathLike[str]): Filepath or buffer object. If None, the result is returned as a string.\n",
    "            mode (str, optional): Saving mode, values ['insolver', 'raw'] are supported. Option 'raw' saves fitted model\n",
    "             without additional metadata. Option 'insolver' saves model as a zip-file with model and json with metadata\n",
    "             inside.\n",
    "            method (str, optional): Saving method.\n",
    "            **kwargs: Other parameters passed to, e.g. h2o.save_model().\n",
    "        \"\"\"\n",
    "        _modes = [\"insolver\", \"raw\"]\n",
    "        if mode not in _modes:\n",
    "            raise ValueError(f\"Invalid mode argument {mode}. Mode must one of {_modes}\")\n",
    "        if method == '' and len(self._backend_saving_methods[self.backend].keys()) > 0:\n",
    "            method = list(self._backend_saving_methods[self.backend].keys())[0]\n",
    "        elif method not in self._backend_saving_methods[self.backend].keys():\n",
    "            raise ValueError(\n",
    "                f'Invalid method \"{method}\". '\n",
    "                f'Supported values for \"{self.backend}\" backend are '\n",
    "                f'{list(self._backend_saving_methods[self.backend].keys())}.'\n",
    "            )\n",
    "        if not self.metadata['is_fitted']:\n",
    "            raise ValueError(\"No fitted model found. Fit model first.\")\n",
    "        if (path_or_buf is not None) and isinstance(path_or_buf, str):\n",
    "            path_or_buf = os.path.abspath(path_or_buf)\n",
    "            if os.path.isdir(path_or_buf):\n",
    "                default_name = (\n",
    "                    f\"{'insolver' if mode == 'insolver' else method}\"\n",
    "                    f\"_{self.algo}_{self.backend}_{self.task}_{round(time.time() * 1000)}\"\n",
    "                )\n",
    "                path_or_buf = os.path.normpath(os.path.join(path_or_buf, default_name))\n",
    "        if path_or_buf is None:\n",
    "            if self._model_cached is None:\n",
    "                return self._backend_saving_methods[self.backend][method](self, path_or_buf, **kwargs)\n",
    "            else:\n",
    "                return self._model_cached\n",
    "        else:\n",
    "            if mode == \"insolver\":\n",
    "                self.metadata.update({\"saving_method\": method})\n",
    "                self._save_insolver(path_or_buf, method=self._backend_saving_methods[self.backend][method], **kwargs)\n",
    "                path_or_buf = f'{path_or_buf}.zip' if not os.fspath(path_or_buf).endswith('.zip') else path_or_buf\n",
    "            else:\n",
    "                self._backend_saving_methods[self.backend][method](self, path_or_buf, **kwargs)\n",
    "            return f\"Saved model: {os.path.normpath(path_or_buf)}\"\n",
    "    def init_model(self, additional_params: Optional[Dict] = None) -> Any:\n",
    "        return None"
   ]
  }
 ],
 "metadata": {
  "kernelspec": {
   "display_name": "Python 3",
   "language": "python",
   "name": "python3"
  },
  "language_info": {
   "codemirror_mode": {
    "name": "ipython",
    "version": 3
   },
   "file_extension": ".py",
   "mimetype": "text/x-python",
   "name": "python",
   "nbconvert_exporter": "python",
   "pygments_lexer": "ipython3",
   "version": "3.6.4"
  }
 },
 "nbformat": 4,
 "nbformat_minor": 2
}