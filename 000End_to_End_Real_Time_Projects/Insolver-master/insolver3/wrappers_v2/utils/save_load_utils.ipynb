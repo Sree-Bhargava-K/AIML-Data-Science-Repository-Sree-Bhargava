{
 "cells": [
  {
   "cell_type": "code",
   "execution_count": null,
   "metadata": {},
   "outputs": [],
   "source": [
    "import os\n",
    "import json\n",
    "import pickle\n",
    "import dill\n",
    "from os import PathLike\n",
    "from typing import Union, Any, Optional, IO, Callable, Dict\n",
    "from zipfile import ZipFile, ZIP_DEFLATED, BadZipFile"
   ]
  },
  {
   "cell_type": "code",
   "execution_count": null,
   "metadata": {},
   "outputs": [],
   "source": [
    "from .h2o_utils import load_h2o\n",
    "from .req_utils import check_requirements"
   ]
  },
  {
   "cell_type": "code",
   "execution_count": null,
   "metadata": {},
   "outputs": [],
   "source": [
    "from ..base import InsolverBaseWrapper"
   ]
  },
  {
   "cell_type": "code",
   "execution_count": null,
   "metadata": {},
   "outputs": [],
   "source": [
    "def load(path_or_buf: Union[str, 'PathLike[str]', bytes], saving_method: str, **kwargs: Any) -> Callable:\n",
    "    load_config: Dict[str, Callable] = dict(pickle=load_pickle, dill=load_dill, h2o=load_h2o)\n",
    "    return load_config[saving_method](path_or_buf, **kwargs)"
   ]
  },
  {
   "cell_type": "code",
   "execution_count": null,
   "metadata": {},
   "outputs": [],
   "source": [
    "def load_model(path_or_buf: Union[str, 'PathLike[str]', IO[bytes]], **kwargs: Any) -> Any:\n",
    "    from insolver.wrappers_v2 import InsolverGLMWrapper, InsolverGBMWrapper\n",
    "    wrapper_config = dict(glm=InsolverGLMWrapper, gbm=InsolverGBMWrapper)\n",
    "    if isinstance(path_or_buf, str):\n",
    "        path_or_buf = os.path.abspath(path_or_buf)\n",
    "    try:\n",
    "        with ZipFile(file=path_or_buf, mode=\"r\", compression=ZIP_DEFLATED, compresslevel=9) as zip_file:\n",
    "            filenames = zip_file.namelist()\n",
    "            if (len(zip_file.filelist) == 3) and (\"metadata.json\" in filenames) and (\"requirements.txt\" in filenames):\n",
    "                metadata = json.loads(zip_file.read(\"metadata.json\"))\n",
    "                filenames.remove(\"metadata.json\")\n",
    "                requirements = zip_file.read(\"requirements.txt\")\n",
    "                check_requirements(requirements)\n",
    "                filenames.remove(\"requirements.txt\")\n",
    "                model = zip_file.read(filenames[0])\n",
    "            else:\n",
    "                raise RuntimeError(\n",
    "                    \"File has inappropriate format. Currently `load_model` can load only models saved \"\n",
    "                    \"with `mode='insolver'` option.\"\n",
    "                )\n",
    "            init_params = metadata[\"init_params\"]\n",
    "            init_params.update(init_params.pop(\"kwargs\"))\n",
    "            wrapper_ = wrapper_config[metadata[\"algo\"]](**init_params)\n",
    "            wrapper_.metadata.update(metadata)\n",
    "            wrapper_.model = load(model, metadata[\"saving_method\"], **kwargs)\n",
    "            wrapper_.metadata.pop(\"saving_method\")\n",
    "            return wrapper_\n",
    "    except BadZipFile:\n",
    "        raise RuntimeError(\n",
    "            \"File has inappropriate format. Currently `load_model` can load only models saved \"\n",
    "            \"with `mode='insolver'` option.\"\n",
    "        )"
   ]
  },
  {
   "cell_type": "code",
   "execution_count": null,
   "metadata": {},
   "outputs": [],
   "source": [
    "def save_pickle(\n",
    "    wrapper: InsolverBaseWrapper, path_or_buf: Union[None, str, 'PathLike[str]'] = None, **kwargs: Any\n",
    ") -> Optional[bytes]:\n",
    "    if not ((path_or_buf is None) or (isinstance(path_or_buf, str))):\n",
    "        raise ValueError(f\"Invalid file path or buffer object {type(path_or_buf)}\")\n",
    "    if path_or_buf is None:\n",
    "        return pickle.dumps(wrapper.model, **kwargs)\n",
    "    else:\n",
    "        with open(path_or_buf, \"wb\") as _file:\n",
    "            pickle.dump(wrapper.model, _file, **kwargs)\n",
    "        return None"
   ]
  },
  {
   "cell_type": "code",
   "execution_count": null,
   "metadata": {},
   "outputs": [],
   "source": [
    "def load_pickle(path_or_buf: Union[str, 'PathLike[str]', bytes], **kwargs: Any) -> Any:\n",
    "    if isinstance(path_or_buf, (str, PathLike)):\n",
    "        with open(path_or_buf, 'rb') as _file:\n",
    "            return pickle.load(_file, **kwargs)\n",
    "    else:\n",
    "        return pickle.loads(path_or_buf, **kwargs)"
   ]
  },
  {
   "cell_type": "code",
   "execution_count": null,
   "metadata": {},
   "outputs": [],
   "source": [
    "def save_dill(\n",
    "    wrapper: InsolverBaseWrapper, path_or_buf: Union[None, str, 'PathLike[str]'] = None, **kwargs: Any\n",
    ") -> Optional[bytes]:\n",
    "    if not ((path_or_buf is None) or (isinstance(path_or_buf, str))):\n",
    "        raise ValueError(f\"Invalid file path or buffer object {type(path_or_buf)}\")\n",
    "    if path_or_buf is None:\n",
    "        return dill.dumps(wrapper.model, **kwargs)\n",
    "    else:\n",
    "        with open(path_or_buf, \"wb\") as _file:\n",
    "            dill.dump(wrapper.model, _file, **kwargs)\n",
    "        return None"
   ]
  },
  {
   "cell_type": "code",
   "execution_count": null,
   "metadata": {},
   "outputs": [],
   "source": [
    "def load_dill(path_or_buf: Union[str, 'PathLike[str]', bytes], **kwargs: Any) -> Any:\n",
    "    if isinstance(path_or_buf, (str, PathLike)):\n",
    "        with open(path_or_buf, 'rb') as _file:\n",
    "            return dill.load(_file, **kwargs)\n",
    "    else:\n",
    "        return dill.loads(path_or_buf, **kwargs)"
   ]
  }
 ],
 "metadata": {
  "kernelspec": {
   "display_name": "Python 3",
   "language": "python",
   "name": "python3"
  },
  "language_info": {
   "codemirror_mode": {
    "name": "ipython",
    "version": 3
   },
   "file_extension": ".py",
   "mimetype": "text/x-python",
   "name": "python",
   "nbconvert_exporter": "python",
   "pygments_lexer": "ipython3",
   "version": "3.6.4"
  }
 },
 "nbformat": 4,
 "nbformat_minor": 2
}