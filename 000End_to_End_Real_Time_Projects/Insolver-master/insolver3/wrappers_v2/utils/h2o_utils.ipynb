{
 "cells": [
  {
   "cell_type": "code",
   "execution_count": null,
   "metadata": {},
   "outputs": [],
   "source": [
    "import os\n",
    "from os import PathLike\n",
    "from typing import Dict, Any, Union, Optional, Tuple"
   ]
  },
  {
   "cell_type": "code",
   "execution_count": null,
   "metadata": {},
   "outputs": [],
   "source": [
    "from pandas import DataFrame, Series, concat\n",
    "from numpy import arange"
   ]
  },
  {
   "cell_type": "code",
   "execution_count": null,
   "metadata": {},
   "outputs": [],
   "source": [
    "from h2o.frame import H2OFrame\n",
    "from h2o.backend import H2OLocalServer\n",
    "from h2o.estimators import H2OEstimator\n",
    "from h2o import no_progress, cluster, remove_all, connect, load_model, save_model"
   ]
  },
  {
   "cell_type": "code",
   "execution_count": null,
   "metadata": {},
   "outputs": [],
   "source": [
    "from ..base import InsolverBaseWrapper"
   ]
  },
  {
   "cell_type": "code",
   "execution_count": null,
   "metadata": {},
   "outputs": [],
   "source": [
    "def h2o_start(h2o_server_params: Dict[str, Any] = None) -> None:\n",
    "    # nthreads=-1, enable_assertions=True, max_mem_size=None, min_mem_size=None,\n",
    "    # ice_root=None, log_dir=None, log_level=None, max_log_file_size=None, port=\"54321+\", name=None,\n",
    "    # extra_classpath=None, verbose=True, jvm_custom_args=None, bind_to_localhost=True\n",
    "    h2o_server_params = {'verbose': False} if h2o_server_params is None else h2o_server_params\n",
    "    no_progress()\n",
    "    if (cluster() is None) or (not cluster().is_running()):\n",
    "        h2oserver = H2OLocalServer.start(**h2o_server_params)\n",
    "        connect(server=h2oserver, verbose=False)"
   ]
  },
  {
   "cell_type": "code",
   "execution_count": null,
   "metadata": {},
   "outputs": [],
   "source": [
    "def h2o_stop() -> None:\n",
    "    if (cluster() is not None) or (cluster().is_running()):\n",
    "        remove_all()\n",
    "        cluster().shutdown()"
   ]
  },
  {
   "cell_type": "code",
   "execution_count": null,
   "metadata": {},
   "outputs": [],
   "source": [
    "def to_h2oframe(df: DataFrame) -> H2OFrame:\n",
    "    \"\"\"Function converts pandas.DataFrame to h2o.H2OFrame ensuring there is no bug duplicating rows in results.\n",
    "    Args:\n",
    "        df (pandas.DataFrame):  Dataset to convert to h2o.H2OFrame\n",
    "    Returns:\n",
    "        DataFrame converted to h2o.H2OFrame.\n",
    "    \"\"\"\n\n",
    "    # https://stackoverflow.com/questions/45672118/h2oframe-in-python-is-adding-additional-duplicate-rows-to-the-pandas-dataframe\n",
    "    df_h2o = df.copy().reset_index(drop=True)\n",
    "    h2of = H2OFrame(df_h2o)\n",
    "    if h2of.shape[0] != df_h2o.shape[0]:\n",
    "        df_h2o['__insolver_temp_row_id'] = arange(len(df_h2o))\n",
    "        h2of = H2OFrame(df_h2o)\n",
    "        h2of = h2of.drop_duplicates(columns=['__insolver_temp_row_id'], keep='first')\n",
    "        h2of = h2of.drop('__insolver_temp_row_id', axis=1)\n",
    "    return h2of"
   ]
  },
  {
   "cell_type": "code",
   "execution_count": null,
   "metadata": {},
   "outputs": [],
   "source": [
    "def x_y_to_h2o_frame(\n",
    "    x: Union[DataFrame, Series],\n",
    "    y: Union[DataFrame, Series],\n",
    "    sample_weight: Union[DataFrame, Series],\n",
    "    params: Dict,\n",
    "    x_valid: Union[DataFrame, Series],\n",
    "    y_valid: Union[DataFrame, Series],\n",
    "    sample_weight_valid: Union[DataFrame, Series],\n",
    ") -> Tuple[H2OFrame, Dict]:\n",
    "    if (sample_weight is not None) and isinstance(sample_weight, (DataFrame, Series)):\n",
    "        params['offset_column'] = (\n",
    "            list(sample_weight.columns) if isinstance(sample_weight, DataFrame) else sample_weight.name\n",
    "        )\n",
    "        x = concat([x, sample_weight], axis=1)\n",
    "    train_set = to_h2oframe(concat([x, y], axis=1))\n",
    "    if (x_valid is not None) and (y_valid is not None):\n",
    "        if all([sam_weight is not None for sam_weight in [sample_weight_valid, sample_weight]]) and isinstance(\n",
    "            sample_weight_valid, (DataFrame, Series)\n",
    "        ):\n",
    "            x_valid = concat([x_valid, sample_weight_valid], axis=1)\n",
    "        valid_set = to_h2oframe(concat([x_valid, y_valid], axis=1))\n",
    "        params['validation_frame'] = valid_set\n",
    "    return train_set, params"
   ]
  },
  {
   "cell_type": "code",
   "execution_count": null,
   "metadata": {},
   "outputs": [],
   "source": [
    "def save_h2o(\n",
    "    wrapper: InsolverBaseWrapper, path_or_buf: Union[None, str, 'PathLike[str]'] = None, **kwargs: Any\n",
    ") -> Optional[bytes]:\n",
    "    if not ((path_or_buf is None) or (isinstance(path_or_buf, str))):\n",
    "        raise ValueError(f\"Invalid file path or buffer object {type(path_or_buf)}\")\n",
    "    if hasattr(wrapper, '_model_cached'):\n",
    "        _model_cached = wrapper._model_cached\n",
    "    else:\n",
    "        _model_cached = None\n",
    "        h2o_start()\n",
    "    if path_or_buf is None:\n",
    "        # Since there no possibility to save h2o model to a variable, workaround is needed\n",
    "        if _model_cached is None:\n",
    "            save_model(model=wrapper.model, filename='.temp_h2o_model_save', **kwargs)\n",
    "            with open('.temp_h2o_model_save', 'rb') as file:\n",
    "                saved = file.read()\n",
    "            os.remove('.temp_h2o_model_save')\n",
    "        else:\n",
    "            saved = _model_cached\n",
    "        return saved\n",
    "    else:\n",
    "        path, filename = os.path.split(path_or_buf)\n",
    "        # force = False, export_cross_validation_predictions = False\n",
    "        if _model_cached is None:\n",
    "            save_model(model=wrapper.model, path=path, filename=filename, **kwargs)\n",
    "        else:\n",
    "            with open(path_or_buf, 'wb') as file:\n",
    "                file.write(_model_cached)\n",
    "        return None"
   ]
  },
  {
   "cell_type": "code",
   "execution_count": null,
   "metadata": {},
   "outputs": [],
   "source": [
    "def load_h2o(\n",
    "    path_or_buf: Union[str, 'PathLike[str]', bytes],\n",
    "    h2o_server_params: Optional[Dict[str, Any]] = None,\n",
    "    terminate: bool = True,\n",
    ") -> H2OEstimator:\n",
    "    h2o_start(h2o_server_params)\n",
    "    if isinstance(path_or_buf, (str, PathLike)):\n",
    "        model = load_model(path_or_buf)\n",
    "    else:\n",
    "        # Since there no possibility to load h2o model from a variable, workaround is needed\n",
    "        with open('.temp_h2o_model_load', 'wb') as file:\n",
    "            file.write(path_or_buf)\n",
    "        model = load_model('.temp_h2o_model_load')\n",
    "        os.remove('.temp_h2o_model_load')\n",
    "    if terminate:\n",
    "        h2o_stop()\n",
    "    return model"
   ]
  }
 ],
 "metadata": {
  "kernelspec": {
   "display_name": "Python 3",
   "language": "python",
   "name": "python3"
  },
  "language_info": {
   "codemirror_mode": {
    "name": "ipython",
    "version": 3
   },
   "file_extension": ".py",
   "mimetype": "text/x-python",
   "name": "python",
   "nbconvert_exporter": "python",
   "pygments_lexer": "ipython3",
   "version": "3.6.4"
  }
 },
 "nbformat": 4,
 "nbformat_minor": 2
}