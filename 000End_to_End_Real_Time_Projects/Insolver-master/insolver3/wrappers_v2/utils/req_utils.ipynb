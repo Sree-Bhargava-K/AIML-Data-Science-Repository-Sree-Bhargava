{
 "cells": [
  {
   "cell_type": "code",
   "execution_count": null,
   "metadata": {},
   "outputs": [],
   "source": [
    "import subprocess"
   ]
  },
  {
   "cell_type": "code",
   "execution_count": null,
   "metadata": {},
   "outputs": [],
   "source": [
    "from typing import Union"
   ]
  },
  {
   "cell_type": "code",
   "execution_count": null,
   "metadata": {},
   "outputs": [],
   "source": [
    "from ...utils import warn_insolver"
   ]
  },
  {
   "cell_type": "code",
   "execution_count": null,
   "metadata": {},
   "outputs": [],
   "source": [
    "class InsolverRequirementsWarning(Warning):\n",
    "    def __init__(self, message: str) -> None:\n",
    "        self.message = message\n",
    "    def __str__(self) -> str:\n",
    "        return repr(self.message)"
   ]
  },
  {
   "cell_type": "code",
   "execution_count": null,
   "metadata": {},
   "outputs": [],
   "source": [
    "def get_requirements() -> str:\n",
    "    insolver_line = subprocess.run(\"pip show insolver\", shell=True, capture_output=True, encoding='utf8').stdout\n",
    "    env = subprocess.run(\"pip freeze\", shell=True, capture_output=True, encoding='utf8').stdout\n",
    "    insolver_dict = {key: val for key, val in (x.split(': ') for x in insolver_line[:-1].split('\\n'))}\n",
    "    insolver_version = f\"insolver=={insolver_dict['Version']}\\n\"\n",
    "    requires = [f'{req}==' for req in insolver_dict['Requires'].split(', ')]\n",
    "    env_req = '\\n'.join([req for req in env.split('\\n')[:-1] if any((x in req for x in requires))])\n",
    "    return f\"{insolver_version}{env_req}\""
   ]
  },
  {
   "cell_type": "code",
   "execution_count": null,
   "metadata": {},
   "outputs": [],
   "source": [
    "def check_requirements(requirements: Union[bytes, str]) -> None:\n",
    "    if isinstance(requirements, bytes):\n",
    "        requirements = requirements.decode('utf-8')\n",
    "    required = {key: val for key, val in [req.split('==') for req in requirements.split('\\n')]}\n",
    "    env = subprocess.run(\"pip freeze\", shell=True, capture_output=True, encoding='utf8').stdout\n",
    "    env_req = {key: val for key, val in [req.split('==') for req in env.split('\\n')[:-1] if len(req.split('==')) == 2]}\n",
    "    potential_missing = set(required.keys()).difference(set(env_req.keys()))\n",
    "    missing_packages = list()\n",
    "    for pack in potential_missing:\n",
    "        check = subprocess.run(f\"pip show {pack}\", shell=True, capture_output=True, encoding='utf8').stdout\n",
    "        if check == '':\n",
    "            missing_packages.append(f'{pack}: missing package')\n",
    "        else:\n",
    "            check_dict = {key: val for key, val in (x.split(': ') for x in check[:-1].split('\\n'))}\n",
    "            env_req.update({pack: check_dict['Version']})\n",
    "    env_req = {\n",
    "        key: val for key, val in env_req.items() if key in set(required.keys()).intersection(set(env_req.keys()))\n",
    "    }\n",
    "    non_equal_packages = [\n",
    "        f'{key}: required {required[key]} got {env_req[key]}'\n",
    "        for key in env_req\n",
    "        if key in required and env_req[key] != required[key]\n",
    "    ]\n",
    "    problem_packages = missing_packages + non_equal_packages\n",
    "    if problem_packages != '':\n",
    "        for warning in problem_packages:\n",
    "            warn_insolver(warning, InsolverRequirementsWarning)"
   ]
  }
 ],
 "metadata": {
  "kernelspec": {
   "display_name": "Python 3",
   "language": "python",
   "name": "python3"
  },
  "language_info": {
   "codemirror_mode": {
    "name": "ipython",
    "version": 3
   },
   "file_extension": ".py",
   "mimetype": "text/x-python",
   "name": "python",
   "nbconvert_exporter": "python",
   "pygments_lexer": "ipython3",
   "version": "3.6.4"
  }
 },
 "nbformat": 4,
 "nbformat_minor": 2
}