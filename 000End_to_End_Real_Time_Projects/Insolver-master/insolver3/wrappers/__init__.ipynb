{
 "cells": [
  {
   "cell_type": "code",
   "execution_count": null,
   "metadata": {},
   "outputs": [],
   "source": [
    "from .base import InsolverBaseWrapper\n",
    "from .trivial import InsolverTrivialWrapper\n",
    "from .general import InsolverRFWrapper\n",
    "from .glm import InsolverGLMWrapper\n",
    "from .gbm import InsolverGBMWrapper"
   ]
  }
 ],
 "metadata": {
  "kernelspec": {
   "display_name": "Python 3",
   "language": "python",
   "name": "python3"
  },
  "language_info": {
   "codemirror_mode": {
    "name": "ipython",
    "version": 3
   },
   "file_extension": ".py",
   "mimetype": "text/x-python",
   "name": "python",
   "nbconvert_exporter": "python",
   "pygments_lexer": "ipython3",
   "version": "3.6.4"
  }
 },
 "nbformat": 4,
 "nbformat_minor": 2
}