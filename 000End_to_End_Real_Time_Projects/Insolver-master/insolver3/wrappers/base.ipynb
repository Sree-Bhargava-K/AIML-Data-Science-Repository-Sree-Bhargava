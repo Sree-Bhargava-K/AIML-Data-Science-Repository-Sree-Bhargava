{
 "cells": [
  {
   "cell_type": "code",
   "execution_count": null,
   "metadata": {},
   "outputs": [],
   "source": [
    "import os\n",
    "import copy\n",
    "import time\n",
    "import pickle"
   ]
  },
  {
   "cell_type": "code",
   "execution_count": null,
   "metadata": {},
   "outputs": [],
   "source": [
    "class InsolverBaseWrapper:\n",
    "    \"\"\"Base wrapper serving as a building block for other wrappers.\n",
    "    Parameters:\n",
    "        backend (str): Name of the backend to build the model.\n",
    "    \"\"\"\n",
    "    def __init__(self, backend):\n",
    "        self.algo, self.backend, self._backends = None, backend, None\n",
    "        self._back_load_dict, self._back_save_dict = None, None\n",
    "        self.meta, self.object, self.model = None, None, None\n",
    "        self.best_params, self.trials = None, None\n",
    "    def __call__(self):\n",
    "        return self.model\n",
    "    @staticmethod\n",
    "    def _get_init_args(vars_):\n",
    "        c_vars = copy.deepcopy(vars_)\n",
    "        for key in ['__class__', 'self']:\n",
    "            del c_vars[key]\n",
    "        return c_vars\n",
    "    def load_model(self, load_path):\n",
    "        \"\"\"Loading a model to the wrapper.\n",
    "        Args:\n",
    "            load_path (str): Path to the model that will be loaded to wrapper.\n",
    "        \"\"\"\n",
    "        load_path = os.path.normpath(load_path)\n",
    "        if self.backend in self._back_load_dict.keys():\n",
    "            self._back_load_dict[self.backend](load_path)\n",
    "        else:\n",
    "            raise NotImplementedError(f'Error with the backend choice. Supported backends: {self._backends}')\n",
    "    def save_model(self, path=None, name=None, suffix=None, **kwargs):\n",
    "        \"\"\"Saving the model contained in wrapper.\n",
    "        Args:\n",
    "            path (str, optional): Path to save the model. Using current working directory by default.\n",
    "            name (str, optional): Optional, name of the model.\n",
    "            suffix (str, optional): Optional, suffix in the name of the model.\n",
    "            **kwargs: Other parameters passed to, e.g. h2o.save_model().\n",
    "        \"\"\"\n",
    "        path = os.getcwd() if path is None else os.path.normpath(path)\n",
    "        def_name = f\"insolver_{self.algo}_{self.backend}_{round(time.time() * 1000)}\"\n",
    "        name = name if name is not None else def_name\n",
    "        name = name if suffix is None else f'{name}_{suffix}'\n",
    "        self.model.insolver_meta = self.meta\n",
    "        self.model.algo = self.algo\n",
    "        self.model.backend = self.backend\n",
    "        if self.backend in self._back_save_dict.keys():\n",
    "            self._back_save_dict[self.backend](path, name, **kwargs)\n",
    "        else:\n",
    "            raise NotImplementedError(f'Error with the backend choice. Supported backends: {self._backends}')\n",
    "    def _pickle_load(self, load_path):\n",
    "        with open(load_path, 'rb') as _model:\n",
    "            self.model = pickle.load(_model)\n",
    "    def _pickle_save(self, path, name, **kwargs):\n",
    "        with open(os.path.join(path, f'{name}.pickle'), 'wb') as _model:\n",
    "            pickle.dump(self.model, _model, **kwargs)\n",
    "    def _update_meta(self):\n",
    "        self.meta = self.__dict__.copy()\n",
    "        for key in ['_backends', '_back_load_dict', '_back_save_dict', 'object', 'model', 'meta']:\n",
    "            self.meta.pop(key)"
   ]
  }
 ],
 "metadata": {
  "kernelspec": {
   "display_name": "Python 3",
   "language": "python",
   "name": "python3"
  },
  "language_info": {
   "codemirror_mode": {
    "name": "ipython",
    "version": 3
   },
   "file_extension": ".py",
   "mimetype": "text/x-python",
   "name": "python",
   "nbconvert_exporter": "python",
   "pygments_lexer": "ipython3",
   "version": "3.6.4"
  }
 },
 "nbformat": 4,
 "nbformat_minor": 2
}