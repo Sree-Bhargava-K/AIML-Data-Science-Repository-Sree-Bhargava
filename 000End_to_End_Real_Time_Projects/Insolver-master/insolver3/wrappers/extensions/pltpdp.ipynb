{
 "cells": [
  {
   "cell_type": "code",
   "execution_count": null,
   "metadata": {},
   "outputs": [],
   "source": [
    "from sklearn.inspection import plot_partial_dependence\n",
    "from matplotlib.pyplot import show, tight_layout\n",
    "from .h2oext import to_h2oframe"
   ]
  },
  {
   "cell_type": "code",
   "execution_count": null,
   "metadata": {},
   "outputs": [],
   "source": [
    "class InsolverPDPExtension:\n",
    "    def pdp(self, X, features, feature_name, plot_backend='sklearn', **kwargs):\n",
    "        if self.backend == 'h2o':\n",
    "            self.model.partial_plot(to_h2oframe(X), features, **kwargs)\n",
    "        else:\n",
    "            if plot_backend == 'sklearn':\n",
    "                if self.backend in ['catboost', 'lightgbm']:\n",
    "                    self.model.dummy_ = True\n",
    "                plot_partial_dependence(self.model, X, features=features, **kwargs)\n",
    "                tight_layout()\n",
    "                show()\n",
    "            elif plot_backend == 'pdpbox':\n",
    "                try:\n",
    "                    from pdpbox.pdp import pdp_isolate, pdp_plot\n",
    "                    pdp_plot(pdp_isolate(self.model, X, features, feature_name), feature_name, **kwargs)\n",
    "                    show()\n",
    "                except ImportError:\n",
    "                    print('Package PDPbox is not installed')\n",
    "            else:\n",
    "                raise NotImplementedError(f'Plot backend {plot_backend} is not implemented.')"
   ]
  }
 ],
 "metadata": {
  "kernelspec": {
   "display_name": "Python 3",
   "language": "python",
   "name": "python3"
  },
  "language_info": {
   "codemirror_mode": {
    "name": "ipython",
    "version": 3
   },
   "file_extension": ".py",
   "mimetype": "text/x-python",
   "name": "python",
   "nbconvert_exporter": "python",
   "pygments_lexer": "ipython3",
   "version": "3.6.4"
  }
 },
 "nbformat": 4,
 "nbformat_minor": 2
}