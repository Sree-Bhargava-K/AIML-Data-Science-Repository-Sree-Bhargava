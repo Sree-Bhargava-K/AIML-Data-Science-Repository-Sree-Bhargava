{
 "cells": [
  {
   "cell_type": "code",
   "execution_count": null,
   "metadata": {},
   "outputs": [],
   "source": [
    "from numpy import array, mean, broadcast_to, where\n",
    "from pandas import concat, merge"
   ]
  },
  {
   "cell_type": "code",
   "execution_count": null,
   "metadata": {},
   "outputs": [],
   "source": [
    "from .base import InsolverBaseWrapper"
   ]
  },
  {
   "cell_type": "code",
   "execution_count": null,
   "metadata": {},
   "outputs": [],
   "source": [
    "class InsolverTrivialWrapper(InsolverBaseWrapper):\n",
    "    \"\"\"Dummy wrapper for returning trivial \"predictions\" for metric comparison and statistics.\n",
    "    Parameters:\n",
    "        col_name (str, list, optional): String or list of strings containing column name(s) to perform\n",
    "         groupby operation.\n",
    "        agg (callable, optional): Aggregation function.\n",
    "        thresh (float, optional): Threshold for continuous prediction in dummy classification.\n",
    "        **kwargs: Other arguments.\n",
    "    \"\"\"\n",
    "    def __init__(self, task=None, col_name=None, agg=None, thresh=0.5, **kwargs):\n",
    "        super(InsolverTrivialWrapper, self).__init__(backend='trivial')\n",
    "        self._tasks = ['class', 'reg']\n",
    "        self.init_args = self._get_init_args(vars())\n",
    "        self._backends, self.x_train, self.y_train = ['trivial'], None, None\n",
    "        self._back_load_dict, self._back_save_dict = {'trivial': self._pickle_load}, {'trivial': self._pickle_save}\n",
    "        if task in self._tasks:\n",
    "            self.task = task\n",
    "            self.thresh = thresh if task == 'class' else None\n",
    "        else:\n",
    "            raise NotImplementedError(f'Task parameter supports values in {self._tasks}.')\n",
    "        if (\n",
    "            isinstance(col_name, (str, list, tuple))\n",
    "            or col_name is None\n",
    "            or (isinstance(col_name, (list, tuple)) and all([isinstance(element, str) for element in col_name]))\n",
    "        ):\n",
    "            self.col_name = col_name\n",
    "        else:\n",
    "            raise TypeError(f'Column of type {type(self.col_name)} is not supported.')\n",
    "        self.fitted, self.agg, self.kwargs = None, agg, kwargs\n",
    "        self.agg = mean if self.agg is None else self.agg\n",
    "        if self.col_name is None:\n",
    "            self.algo = self.agg.__name__.replace('_', ' ')\n",
    "        else:\n",
    "            self.algo = f\"{self.agg.__name__} target: {self.col_name}\"\n",
    "    def fit(self, X, y):\n",
    "        \"\"\"Fitting dummy model.\n",
    "        Args:\n",
    "            X (pd.DataFrame): Data.\n",
    "            y (pd.Series): Target values.\n",
    "        \"\"\"\n",
    "        self.x_train, self.y_train = X, y\n",
    "        if self.col_name is None:\n",
    "            self.fitted = self.agg(self.y_train)\n",
    "        else:\n",
    "            _df = concat([self.y_train, self.x_train[self.col_name]], axis=1)\n",
    "            self.fitted = _df.groupby(self.col_name).aggregate(self.agg).reset_index()\n",
    "    def predict(self, X):\n",
    "        \"\"\"Making dummy predictions.\n",
    "        Args:\n",
    "            X (pd.DataFrame, pd.Series): Data.\n",
    "        Returns:\n",
    "            array: Trivial model \"prediction\".\n",
    "        \"\"\"\n",
    "        if self.col_name is None:\n",
    "            output = broadcast_to(self.fitted, X.shape[0])\n",
    "        else:\n",
    "            output = merge(X[self.col_name], self.fitted, how='left', on=self.col_name)[self.y_train.name].fillna(\n",
    "                self.agg(self.y_train)\n",
    "            )\n",
    "        return array(output) if self.task != 'class' else where(array(output) >= self.thresh, 1, 0)"
   ]
  }
 ],
 "metadata": {
  "kernelspec": {
   "display_name": "Python 3",
   "language": "python",
   "name": "python3"
  },
  "language_info": {
   "codemirror_mode": {
    "name": "ipython",
    "version": 3
   },
   "file_extension": ".py",
   "mimetype": "text/x-python",
   "name": "python",
   "nbconvert_exporter": "python",
   "pygments_lexer": "ipython3",
   "version": "3.6.4"
  }
 },
 "nbformat": 4,
 "nbformat_minor": 2
}