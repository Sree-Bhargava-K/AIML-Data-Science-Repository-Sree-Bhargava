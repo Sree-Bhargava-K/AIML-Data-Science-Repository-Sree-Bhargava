{
 "cells": [
  {
   "cell_type": "code",
   "execution_count": null,
   "metadata": {},
   "outputs": [],
   "source": [
    "import numpy as np\n",
    "import pandas as pd\n",
    "from sklearn.preprocessing import KBinsDiscretizer\n",
    "from sklearn.model_selection import cross_val_score\n",
    "from sklearn.tree import DecisionTreeClassifier"
   ]
  },
  {
   "cell_type": "code",
   "execution_count": null,
   "metadata": {},
   "outputs": [],
   "source": [
    "class SklearnDiscretizer:\n",
    "    @staticmethod\n",
    "    def _transform(X, n_bins, method):\n",
    "        \"\"\"Apply discretizations from scikit-learn.\n",
    "        Args:\n",
    "            X: 1-D array, The data to be descretized.\n",
    "            n_bins (int): The number of bins.\n",
    "            method (string): The method used by scikit-learn's KBinsDiscretizer. Either 'uniform', 'quantile' or\n",
    "            'kmeans'.\n",
    "        Returns:\n",
    "            1-D array, The transformed data.\n",
    "        References:\n",
    "            [1] https://scikit-learn.org/stable/modules/generated/sklearn.preprocessing.KBinsDiscretizer.html\n",
    "        \"\"\"\n",
    "        return KBinsDiscretizer(n_bins=n_bins, encode='ordinal', strategy=method).fit_transform(X).reshape(-1)"
   ]
  },
  {
   "cell_type": "code",
   "execution_count": null,
   "metadata": {},
   "outputs": [],
   "source": [
    "class CARTDiscretizer:\n",
    "    @staticmethod\n",
    "    def _transform(X, y, min_samples_leaf=None, min_tree_depth=1, max_tree_depth=3):\n",
    "        \"\"\"Apply CART discretization.\n",
    "        Args:\n",
    "            X: 1-D array, The data to be descretized.\n",
    "            y: 1-D array, The target values.\n",
    "            min_samples_leaf(int): The minimum number of samples required to be at a leaf node. A split point at any\n",
    "            depth will only be considered if it leaves at least min_samples_leaf training samples in each of the left\n",
    "            and right branches.\n",
    "            This may have the effect of smoothing the model, especially in regression.\n",
    "                If int, then consider min_samples_leaf as the minimum number.\n",
    "                If float, then min_samples_leaf is a fraction and ceil(min_samples_leaf * n_samples) are the minimum\n",
    "                number of samples for each node.\n",
    "                If None, then min_samples_leaf implicitly set to 0.1.\n",
    "        Returns:\n",
    "            1-D array, The transformed data.\n",
    "        References:\n",
    "            [1] Liu, Huan, et al. \"Discretization: An enabling technique.\" Data mining and knowledge discovery 6.4\n",
    "            (2002): 393-423.\n",
    "        \"\"\"\n",
    "        X = X.reshape(-1, 1)\n",
    "        min_samples_leaf = 0.1 if min_samples_leaf is None else min_samples_leaf\n",
    "        depths = range(min_tree_depth, max_tree_depth + 1)\n",
    "        roc_auc_scores = []\n",
    "        for tree_depth in depths:\n",
    "            tree_model = DecisionTreeClassifier(max_depth=tree_depth, min_samples_leaf=min_samples_leaf)\n",
    "            scores = cross_val_score(tree_model, X, y, cv=3, scoring='roc_auc')\n",
    "            roc_auc_scores.append(np.mean(scores))\n",
    "        best = depths[np.where(roc_auc_scores == np.max(roc_auc_scores))[0][0]]\n",
    "        tree_model = DecisionTreeClassifier(max_depth=best, min_samples_leaf=min_samples_leaf)\n",
    "        tree_model.fit(X, y)\n",
    "        return tree_model.predict_proba(X)[:, 1]"
   ]
  }
 ],
 "metadata": {
  "kernelspec": {
   "display_name": "Python 3",
   "language": "python",
   "name": "python3"
  },
  "language_info": {
   "codemirror_mode": {
    "name": "ipython",
    "version": 3
   },
   "file_extension": ".py",
   "mimetype": "text/x-python",
   "name": "python",
   "nbconvert_exporter": "python",
   "pygments_lexer": "ipython3",
   "version": "3.6.4"
  }
 },
 "nbformat": 4,
 "nbformat_minor": 2
}