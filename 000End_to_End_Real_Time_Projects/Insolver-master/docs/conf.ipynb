{
 "cells": [
  {
   "cell_type": "code",
   "execution_count": null,
   "metadata": {},
   "outputs": [],
   "source": [
    "import os\n",
    "import sys\n",
    "from datetime import datetime\n",
    "from importlib.metadata import version"
   ]
  },
  {
   "cell_type": "code",
   "execution_count": null,
   "metadata": {},
   "outputs": [],
   "source": [
    "sys.path.insert(0, os.path.abspath('../insolver/'))"
   ]
  },
  {
   "cell_type": "markdown",
   "metadata": {},
   "source": [
    "-- Project information -----------------------------------------------------"
   ]
  },
  {
   "cell_type": "code",
   "execution_count": null,
   "metadata": {},
   "outputs": [],
   "source": [
    "project = 'Insolver'\n",
    "copyright = f'2020-{datetime.now().year}, MindSet Team'\n",
    "author = 'MindSet Team'"
   ]
  },
  {
   "cell_type": "code",
   "execution_count": null,
   "metadata": {},
   "outputs": [],
   "source": [
    "release = version('insolver')\n",
    "version = '.'.join(release.split('.')[:3])"
   ]
  },
  {
   "cell_type": "markdown",
   "metadata": {},
   "source": [
    "-- General configuration ---------------------------------------------------"
   ]
  },
  {
   "cell_type": "markdown",
   "metadata": {},
   "source": [
    "Add any Sphinx extension module names here, as strings. They can be<br>\n",
    "extensions coming with Sphinx (named 'sphinx.ext.*') or your custom<br>\n",
    "ones."
   ]
  },
  {
   "cell_type": "code",
   "execution_count": null,
   "metadata": {},
   "outputs": [],
   "source": [
    "extensions = [\n",
    "    'sphinx.ext.autodoc',\n",
    "    'sphinx.ext.doctest',\n",
    "    'sphinx.ext.intersphinx',\n",
    "    'sphinx.ext.todo',\n",
    "    'sphinx.ext.coverage',\n",
    "    'sphinx.ext.mathjax',\n",
    "    'sphinx.ext.ifconfig',\n",
    "    'sphinx.ext.viewcode',\n",
    "    'sphinx.ext.githubpages',\n",
    "    'sphinx.ext.napoleon',\n",
    "    'myst_parser',\n",
    "]"
   ]
  },
  {
   "cell_type": "markdown",
   "metadata": {},
   "source": [
    "Napoleon settings"
   ]
  },
  {
   "cell_type": "code",
   "execution_count": null,
   "metadata": {},
   "outputs": [],
   "source": [
    "napoleon_google_docstring = True\n",
    "napoleon_numpy_docstring = True\n",
    "napoleon_include_init_with_doc = True\n",
    "napoleon_include_private_with_doc = True\n",
    "napoleon_include_special_with_doc = True\n",
    "napoleon_use_admonition_for_examples = False\n",
    "napoleon_use_admonition_for_notes = False\n",
    "napoleon_use_admonition_for_references = False\n",
    "napoleon_use_ivar = False\n",
    "napoleon_use_param = True\n",
    "napoleon_use_rtype = True"
   ]
  },
  {
   "cell_type": "markdown",
   "metadata": {},
   "source": [
    "Add any paths that contain templates here, relative to this directory."
   ]
  },
  {
   "cell_type": "code",
   "execution_count": null,
   "metadata": {},
   "outputs": [],
   "source": [
    "templates_path = ['_templates']"
   ]
  },
  {
   "cell_type": "markdown",
   "metadata": {},
   "source": [
    "List of patterns, relative to source directory, that match files and<br>\n",
    "directories to ignore when looking for source files.<br>\n",
    "This pattern also affects html_static_path and html_extra_path."
   ]
  },
  {
   "cell_type": "code",
   "execution_count": null,
   "metadata": {},
   "outputs": [],
   "source": [
    "exclude_patterns = ['_build', 'Thumbs.db', '.DS_Store', 'README.md']"
   ]
  },
  {
   "cell_type": "markdown",
   "metadata": {},
   "source": [
    "-- Options for HTML output -------------------------------------------------"
   ]
  },
  {
   "cell_type": "markdown",
   "metadata": {},
   "source": [
    "The theme to use for HTML and HTML Help pages.  See the documentation for<br>\n",
    "a list of builtin themes.<br>\n",
    ""
   ]
  },
  {
   "cell_type": "code",
   "execution_count": null,
   "metadata": {},
   "outputs": [],
   "source": [
    "html_theme = 'sphinx_rtd_theme'\n",
    "# html_theme = 'alabaster'"
   ]
  },
  {
   "cell_type": "markdown",
   "metadata": {},
   "source": [
    "Add any paths that contain custom static files (such as style sheets) here,<br>\n",
    "relative to this directory. They are copied after the builtin static files,<br>\n",
    "so a file named \"default.css\" will overwrite the builtin \"default.css\".<br>\n",
    "html_static_path = ['_static']"
   ]
  },
  {
   "cell_type": "code",
   "execution_count": null,
   "metadata": {},
   "outputs": [],
   "source": [
    "source_suffix = {'.md': 'markdown', '.rst': 'restructuredtext'}"
   ]
  }
 ],
 "metadata": {
  "kernelspec": {
   "display_name": "Python 3",
   "language": "python",
   "name": "python3"
  },
  "language_info": {
   "codemirror_mode": {
    "name": "ipython",
    "version": 3
   },
   "file_extension": ".py",
   "mimetype": "text/x-python",
   "name": "python",
   "nbconvert_exporter": "python",
   "pygments_lexer": "ipython3",
   "version": "3.6.4"
  }
 },
 "nbformat": 4,
 "nbformat_minor": 2
}