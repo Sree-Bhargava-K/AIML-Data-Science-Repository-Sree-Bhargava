{
 "cells": [
  {
   "cell_type": "code",
   "execution_count": null,
   "metadata": {},
   "outputs": [],
   "source": [
    "import numpy as np\n",
    "import pandas as pd\n",
    "from insolver.frame import InsolverDataFrame\n",
    "from insolver.discretization import InsolverDiscretizer"
   ]
  },
  {
   "cell_type": "code",
   "execution_count": null,
   "metadata": {},
   "outputs": [],
   "source": [
    "X = [85, 90, 78, 96, 80, 70, 65, 95]\n",
    "y = [1, 0, 1, 0, 0, 1, 1, 1]\n",
    "data = InsolverDataFrame(pd.DataFrame({'X': X, 'y': y}))"
   ]
  },
  {
   "cell_type": "code",
   "execution_count": null,
   "metadata": {},
   "outputs": [],
   "source": [
    "def test_method_uniform():\n",
    "    insolverDisc = InsolverDiscretizer(method='uniform')\n",
    "    expected = np.array([1.0, 2.0, 1.0, 2.0, 1.0, 0.0, 0.0, 2.0])\n",
    "    assert np.all(expected == insolverDisc.transform(data.X, n_bins=3))"
   ]
  },
  {
   "cell_type": "code",
   "execution_count": null,
   "metadata": {},
   "outputs": [],
   "source": [
    "def test_method_quantile():\n",
    "    insolverDisc = InsolverDiscretizer(method='quantile')\n",
    "    expected = np.array([1.0, 2.0, 0.0, 2.0, 1.0, 0.0, 0.0, 2.0])\n",
    "    assert np.all(expected == insolverDisc.transform(data.X, n_bins=3))"
   ]
  },
  {
   "cell_type": "code",
   "execution_count": null,
   "metadata": {},
   "outputs": [],
   "source": [
    "def test_method_kmeans():\n",
    "    insolverDisc = InsolverDiscretizer(method='kmeans')\n",
    "    expected = np.array([1.0, 2.0, 1.0, 2.0, 1.0, 0.0, 0.0, 2.0])\n",
    "    assert np.all(expected == insolverDisc.transform(data.X, n_bins=3))"
   ]
  },
  {
   "cell_type": "code",
   "execution_count": null,
   "metadata": {},
   "outputs": [],
   "source": [
    "def test_method_cart():\n",
    "    insolverDisc = InsolverDiscretizer(method='cart')\n",
    "    expected = np.array([0.4, 0.4, 1.0, 0.4, 0.4, 1.0, 1.0, 0.4])\n",
    "    assert np.all(expected == insolverDisc.transform(data.X, data.y, n_bins=3))"
   ]
  },
  {
   "cell_type": "code",
   "execution_count": null,
   "metadata": {},
   "outputs": [],
   "source": [
    "def test_method_chimerge():\n",
    "    insolverDisc = InsolverDiscretizer(method='chimerge')\n",
    "    expected = np.array([1, 1, 0, 2, 1, 0, 0, 1], dtype=np.int64)\n",
    "    assert np.all(expected == insolverDisc.transform(data.X, data.y.values, n_bins=3))"
   ]
  },
  {
   "cell_type": "code",
   "execution_count": null,
   "metadata": {},
   "outputs": [],
   "source": [
    "def test_data_type():\n",
    "    insolverDisc = InsolverDiscretizer(method='uniform')\n",
    "    expected = np.array([1.0, 2.0, 1.0, 2.0, 1.0, 0.0, 0.0, 2.0])\n",
    "    assert np.all(expected == insolverDisc.transform(X, n_bins=3))\n",
    "    assert np.all(expected == insolverDisc.transform(np.array(X), n_bins=3))\n",
    "    assert np.all(expected == insolverDisc.transform(data.X, n_bins=3))\n",
    "    assert np.all(expected == insolverDisc.transform(data.X.values, n_bins=3))\n",
    "    assert np.all(expected == insolverDisc.transform(data.X.to_frame(), n_bins=3))"
   ]
  },
  {
   "cell_type": "code",
   "execution_count": null,
   "metadata": {},
   "outputs": [],
   "source": [
    "def test_target_type():\n",
    "    insolverDisc = InsolverDiscretizer(method='chimerge')\n",
    "    expected = np.array([1, 1, 0, 2, 1, 0, 0, 1], dtype=np.int64)\n",
    "    assert np.all(expected == insolverDisc.transform(data.X, y, n_bins=3))\n",
    "    assert np.all(expected == insolverDisc.transform(data.X, np.array(y), n_bins=3))\n",
    "    assert np.all(expected == insolverDisc.transform(data.X, data.y, n_bins=3))\n",
    "    assert np.all(expected == insolverDisc.transform(data.X, data.y.values, n_bins=3))\n",
    "    assert np.all(expected == insolverDisc.transform(data.X, data.y.to_frame(), n_bins=3))"
   ]
  },
  {
   "cell_type": "code",
   "execution_count": null,
   "metadata": {},
   "outputs": [],
   "source": [
    "def test_n_bins_formulas():\n",
    "    insolverDisc = InsolverDiscretizer(method='uniform')\n",
    "    expected_1 = np.array([1.0, 2.0, 1.0, 2.0, 1.0, 0.0, 0.0, 2.0])\n",
    "    expected_2 = np.array([2.0, 3.0, 1.0, 3.0, 1.0, 0.0, 0.0, 3.0])\n",
    "    expected_3 = np.array([3.0, 4.0, 2.0, 4.0, 2.0, 0.0, 0.0, 4.0])\n",
    "    expected_4 = np.array([1.0, 1.0, 0.0, 1.0, 0.0, 0.0, 0.0, 1.0])\n",
    "    expected_5 = np.array([30.0, 37.0, 19.0, 46.0, 22.0, 7.0, 0.0, 45.0])\n",
    "    assert np.all(expected_1 == insolverDisc.transform(data.X, n_bins='square-root'))\n",
    "    assert np.all(expected_2 == insolverDisc.transform(data.X, n_bins='sturges'))\n",
    "    assert np.all(expected_2 == insolverDisc.transform(data.X, n_bins='huntsberger'))\n",
    "    assert np.all(expected_3 == insolverDisc.transform(data.X, n_bins='brooks-carrther'))\n",
    "    assert np.all(expected_4 == insolverDisc.transform(data.X, n_bins='cencov'))\n",
    "    assert np.all(expected_2 == insolverDisc.transform(data.X, n_bins='rice-rule'))\n",
    "    assert np.all(expected_1 == insolverDisc.transform(data.X, n_bins='terrell-scott'))\n",
    "    assert np.all(expected_5 == insolverDisc.transform(data.X, n_bins='scott'))\n",
    "    assert np.all(expected_4 == insolverDisc.transform(data.X, n_bins='freedman-diaconis'))"
   ]
  }
 ],
 "metadata": {
  "kernelspec": {
   "display_name": "Python 3",
   "language": "python",
   "name": "python3"
  },
  "language_info": {
   "codemirror_mode": {
    "name": "ipython",
    "version": 3
   },
   "file_extension": ".py",
   "mimetype": "text/x-python",
   "name": "python",
   "nbconvert_exporter": "python",
   "pygments_lexer": "ipython3",
   "version": "3.6.4"
  }
 },
 "nbformat": 4,
 "nbformat_minor": 2
}