{
 "cells": [
  {
   "cell_type": "code",
   "execution_count": null,
   "metadata": {},
   "outputs": [],
   "source": [
    "import os\n",
    "import pytest\n",
    "import numpy as np\n",
    "import pandas as pd\n",
    "from scipy import stats as sps\n",
    "from insolver.feature_monitoring import DiscreteHomogeneityTests\n",
    "from insolver.model_tools import download_dataset"
   ]
  },
  {
   "cell_type": "code",
   "execution_count": null,
   "metadata": {},
   "outputs": [],
   "source": [
    "def gen_examples_discr(samp_size):\n",
    "    # SIMPLE SYNTHETIC EXAMPLES\n",
    "    examples = [\n",
    "        (np.random.randint(0, 2, samp_size), np.random.randint(0, 2, samp_size), 'Same distributions'),\n",
    "        (np.random.randint(0, 20, samp_size), np.random.randint(0, 20, samp_size), 'Same distributions'),\n",
    "        (np.random.randint(0, 100, samp_size), np.random.randint(0, 100, samp_size), 'Same distributions'),\n",
    "        (sps.poisson.rvs(0, 0.5, size=samp_size), sps.poisson.rvs(0, 0.5, size=samp_size), 'Same distributions'),\n",
    "        (np.random.randint(0, 10, samp_size), np.random.randint(4, 12, samp_size), 'Different distributions'),\n",
    "        (np.random.randint(0, 10, samp_size), np.random.randint(0, 50, samp_size), 'Different distributions'),\n",
    "        (\n",
    "            sps.poisson.rvs(0, 0.5, size=samp_size),\n",
    "            sps.poisson.rvs(0, 1.0, size=samp_size),\n",
    "            'Different distributions',\n",
    "        ),\n",
    "    ]\n\n",
    "    # EXAMPLES FROM TEST FRAME\n",
    "    # Download frame if necessary\n",
    "    if not os.path.exists('tests/data/freMPL-R.csv'):\n",
    "        download_dataset('freMPL-R', 'tests/data')\n",
    "    df = pd.read_csv('tests/data/freMPL-R.csv', low_memory=False)\n\n",
    "    # Simple check for categorical feat., no nans\n",
    "    x = df['SocioCateg'].values.copy()\n",
    "    np.random.shuffle(x)\n",
    "    x1 = x[: len(x) // 2]\n",
    "    x2 = x[len(x) // 2 :]\n",
    "    examples.append((x1, x2, 'Same distributions'))\n\n",
    "    # Example with same percent of nans\n",
    "    x = df['DeducType'].values.copy()\n",
    "    np.random.shuffle(x)\n",
    "    x1 = x[: len(x) // 2]\n",
    "    x2 = x[len(x) // 2 :]\n",
    "    examples.append((x1, x2, 'Same distributions'))\n\n",
    "    # Example with different percents of nans\n",
    "    x = df['SocioCateg'].values.copy()\n",
    "    np.random.shuffle(x)\n",
    "    x1 = x[: len(x) // 2]\n",
    "    x2 = x[len(x) // 2 :]\n",
    "    idx1 = np.random.choice(np.arange(len(x1)), len(x1) // 3, replace=False)\n",
    "    idx2 = np.random.choice(np.arange(len(x2)), len(x2) // 10, replace=False)\n",
    "    x1[idx1] = np.nan\n",
    "    x2[idx2] = np.nan\n",
    "    examples.append((x1, x2, 'Different distributions'))\n\n",
    "    # EDA showed that married and lonely people prefer different car bodies\n",
    "    x = df['VehBody'].values.copy()\n",
    "    filt = ~df['VehBody'].isna()\n",
    "    x1 = x[(df['MariStat'] == 'Other') & filt]\n",
    "    x2 = x[(df['MariStat'] == 'Alone') & filt]\n",
    "    examples.append((x1, x2, 'Different distributions'))\n\n",
    "    # Same case with nans\n",
    "    x = df['VehBody'].values.copy()\n",
    "    x1 = x[df['MariStat'] == 'Other']\n",
    "    x2 = x[df['MariStat'] == 'Alone']\n",
    "    examples.append((x1, x2, 'Different distributions'))\n\n",
    "    # Analogic case for driver age and social category\n",
    "    x = df['SocioCateg'].values.copy()\n",
    "    x1 = x[df['DrivAge'] >= 35]\n",
    "    x2 = x[df['DrivAge'] < 35]\n",
    "    examples.append((x1, x2, 'Different distributions'))\n\n",
    "    # Same case with nans\n",
    "    idx = np.random.choice(np.arange(len(x)), len(x) // 3, replace=False)\n",
    "    x[idx] = np.nan\n",
    "    x1 = x[df['DrivAge'] >= 35]\n",
    "    x2 = x[df['DrivAge'] < 35]\n",
    "    examples.append((x1, x2, 'Different distributions'))\n\n",
    "    # EXAMPLES WITH SMALL AND SIGNIFICANT NOISES IN DISTRIBUTION\n",
    "    # We expect our system to be tolerant to some small noises\n\n",
    "    # Small noise\n",
    "    values = np.arange(4)\n",
    "    probs = np.array([1 / 2, 1 / 4, 1 / 8, 1 / 8])\n",
    "    noise, eps = np.zeros(4), 0.02\n",
    "    noise[1:] = np.random.uniform(-1, 1, 3) * eps\n",
    "    noise[0] = -noise.sum()\n",
    "    rv = sps.rv_discrete(values=(values, probs))\n",
    "    x1 = rv.rvs(size=samp_size)\n",
    "    rv = sps.rv_discrete(values=(values, probs + noise))\n",
    "    x2 = rv.rvs(size=samp_size)\n",
    "    examples.append((x1, x2, 'Same distributions'))\n\n",
    "    # Significant noise\n",
    "    values = np.arange(5)\n",
    "    probs1 = np.array([0.2, 0.2, 0.2, 0.2, 0.2])\n",
    "    probs2 = np.array([0.15, 0.3, 0.1, 0.1, 0.35])\n",
    "    rv = sps.rv_discrete(values=(values, probs1))\n",
    "    x1 = rv.rvs(size=samp_size)\n",
    "    rv = sps.rv_discrete(values=(values, probs2))\n",
    "    x2 = rv.rvs(size=samp_size)\n",
    "    examples.append((x1, x2, 'Different distributions'))\n\n",
    "    # Delete test data\n",
    "    os.remove('tests/data/freMPL-R.csv')\n",
    "    return examples"
   ]
  },
  {
   "cell_type": "code",
   "execution_count": null,
   "metadata": {},
   "outputs": [],
   "source": [
    "@pytest.mark.parametrize('x1, x2, expected', gen_examples_discr(5000))\n",
    "def test_discrete_tests_class(x1, x2, expected):\n",
    "    homogen_tester = DiscreteHomogeneityTests(pval_thresh=0.05, samp_size=500, bootstrap_num=100)\n",
    "    test_res = homogen_tester.run_all(x1, x2)\n",
    "    for res in test_res:\n",
    "        assert res[-1] == expected"
   ]
  },
  {
   "cell_type": "markdown",
   "metadata": {},
   "source": [
    "Check psi with small difference (0.1 <= psi < 0.2)"
   ]
  },
  {
   "cell_type": "code",
   "execution_count": null,
   "metadata": {},
   "outputs": [],
   "source": [
    "def test_psi_discr_small_diff():\n",
    "    values = np.arange(5)\n",
    "    probs1 = np.array([0.2, 0.2, 0.2, 0.2, 0.2])\n",
    "    probs2 = np.array([0.15, 0.28, 0.12, 0.15, 0.3])\n",
    "    rv = sps.rv_discrete(values=(values, probs1))\n",
    "    x1 = rv.rvs(size=5000)\n",
    "    rv = sps.rv_discrete(values=(values, probs2))\n",
    "    x2 = rv.rvs(size=5000)\n",
    "    homogen_tester = DiscreteHomogeneityTests(pval_thresh=0.05, samp_size=500, bootstrap_num=100)\n",
    "    psi_res = homogen_tester.run_all(x1, x2)[-1]\n",
    "    assert psi_res[-1] == 'Small difference'"
   ]
  },
  {
   "cell_type": "markdown",
   "metadata": {},
   "source": [
    "Check if class recognises too small data in input"
   ]
  },
  {
   "cell_type": "code",
   "execution_count": null,
   "metadata": {},
   "outputs": [],
   "source": [
    "def test_shape_error_discr():\n",
    "    with pytest.raises(Exception):\n",
    "        homogen_tester = DiscreteHomogeneityTests(pval_thresh=0.05, samp_size=500, bootstrap_num=100)\n",
    "        _ = homogen_tester.run_all(np.array([]), np.array([]))\n",
    "    with pytest.raises(Exception):\n",
    "        homogen_tester = DiscreteHomogeneityTests(pval_thresh=0.05, samp_size=500, bootstrap_num=100)\n",
    "        _ = homogen_tester.run_all(np.zeros([100]), np.ones([200]))\n",
    "    with pytest.raises(Exception):\n",
    "        homogen_tester = DiscreteHomogeneityTests(pval_thresh=0.05, samp_size=500, bootstrap_num=100)\n",
    "        _ = homogen_tester.run_all(np.zeros([550]), np.ones([550]))"
   ]
  },
  {
   "cell_type": "markdown",
   "metadata": {},
   "source": [
    "Check if class recognises type missmatches"
   ]
  },
  {
   "cell_type": "code",
   "execution_count": null,
   "metadata": {},
   "outputs": [],
   "source": [
    "def test_type_error_discr():\n",
    "    with pytest.raises(Exception):\n",
    "        homogen_tester = DiscreteHomogeneityTests(pval_thresh=0.05, samp_size=500, bootstrap_num=100)\n",
    "        _ = homogen_tester.run_all([0] * 1000, [1] * 2000)\n",
    "    with pytest.raises(Exception):\n",
    "        homogen_tester = DiscreteHomogeneityTests(pval_thresh=0.05, samp_size=500, bootstrap_num=100)\n",
    "        _ = homogen_tester.run_all(np.random.randint(0, 5, 1000), np.random.randn(2000))"
   ]
  },
  {
   "cell_type": "markdown",
   "metadata": {},
   "source": [
    "Check if class recognises bad hypeparameters"
   ]
  },
  {
   "cell_type": "code",
   "execution_count": null,
   "metadata": {},
   "outputs": [],
   "source": [
    "def test_attr_error_discr():\n",
    "    with pytest.raises(Exception):\n",
    "        _ = DiscreteHomogeneityTests(pval_thresh=1.02, samp_size=500, bootstrap_num=100)\n",
    "    with pytest.raises(Exception):\n",
    "        _ = DiscreteHomogeneityTests(pval_thresh=0.02, samp_size=90, bootstrap_num=100)\n",
    "    with pytest.raises(Exception):\n",
    "        _ = DiscreteHomogeneityTests(pval_thresh=0.02, samp_size=500, bootstrap_num=5)"
   ]
  }
 ],
 "metadata": {
  "kernelspec": {
   "display_name": "Python 3",
   "language": "python",
   "name": "python3"
  },
  "language_info": {
   "codemirror_mode": {
    "name": "ipython",
    "version": 3
   },
   "file_extension": ".py",
   "mimetype": "text/x-python",
   "name": "python",
   "nbconvert_exporter": "python",
   "pygments_lexer": "ipython3",
   "version": "3.6.4"
  }
 },
 "nbformat": 4,
 "nbformat_minor": 2
}