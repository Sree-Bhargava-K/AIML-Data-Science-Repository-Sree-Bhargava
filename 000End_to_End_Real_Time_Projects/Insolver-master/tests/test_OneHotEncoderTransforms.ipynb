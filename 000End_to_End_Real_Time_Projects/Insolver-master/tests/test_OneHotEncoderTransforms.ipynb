{
 "cells": [
  {
   "cell_type": "code",
   "execution_count": null,
   "metadata": {},
   "outputs": [],
   "source": [
    "import pandas as pd"
   ]
  },
  {
   "cell_type": "code",
   "execution_count": null,
   "metadata": {},
   "outputs": [],
   "source": [
    "from insolver.frame import InsolverDataFrame\n",
    "from insolver.transforms import InsolverTransform, OneHotEncoderTransforms"
   ]
  },
  {
   "cell_type": "code",
   "execution_count": null,
   "metadata": {},
   "outputs": [],
   "source": [
    "def test_OneHotEncoderTransforms():\n",
    "    df_test = InsolverDataFrame(pd.DataFrame(data={'col1': ['A', 'B', 'C', 'A']}))\n",
    "    df_transformed = InsolverTransform(\n",
    "        df_test,\n",
    "        [\n",
    "            OneHotEncoderTransforms(['col1']),\n",
    "        ],\n",
    "    )\n",
    "    df_transformed.ins_transform()\n",
    "    assert 'col1_A' in df_transformed.columns\n",
    "    assert 'col1_B' in df_transformed.columns\n",
    "    assert 'col1_C' in df_transformed.columns\n",
    "    assert df_transformed['col1_A'][0] == 1\n",
    "    assert df_transformed['col1_B'][1] == 1\n",
    "    assert df_transformed['col1_C'][2] == 1\n",
    "    assert df_transformed['col1_A'][3] == 1"
   ]
  }
 ],
 "metadata": {
  "kernelspec": {
   "display_name": "Python 3",
   "language": "python",
   "name": "python3"
  },
  "language_info": {
   "codemirror_mode": {
    "name": "ipython",
    "version": 3
   },
   "file_extension": ".py",
   "mimetype": "text/x-python",
   "name": "python",
   "nbconvert_exporter": "python",
   "pygments_lexer": "ipython3",
   "version": "3.6.4"
  }
 },
 "nbformat": 4,
 "nbformat_minor": 2
}