{
 "cells": [
  {
   "cell_type": "code",
   "execution_count": null,
   "metadata": {},
   "outputs": [],
   "source": [
    "import pandas as pd"
   ]
  },
  {
   "cell_type": "code",
   "execution_count": null,
   "metadata": {},
   "outputs": [],
   "source": [
    "from insolver.frame import InsolverDataFrame\n",
    "from insolver.transforms import InsolverTransform, EncoderTransforms"
   ]
  },
  {
   "cell_type": "code",
   "execution_count": null,
   "metadata": {},
   "outputs": [],
   "source": [
    "def test_EncoderTransforms():\n",
    "    df_test = InsolverDataFrame(pd.DataFrame(data={'col1': ['A', 'B', 'C', 'A']}))\n",
    "    df_transformed = InsolverTransform(\n",
    "        df_test,\n",
    "        [\n",
    "            EncoderTransforms(['col1']),\n",
    "        ],\n",
    "    )\n",
    "    df_transformed.ins_transform()\n",
    "    assert df_transformed['col1'][0] == 0\n",
    "    assert df_transformed['col1'][1] == 1\n",
    "    assert df_transformed['col1'][2] == 2\n",
    "    assert df_transformed['col1'][3] == 0"
   ]
  }
 ],
 "metadata": {
  "kernelspec": {
   "display_name": "Python 3",
   "language": "python",
   "name": "python3"
  },
  "language_info": {
   "codemirror_mode": {
    "name": "ipython",
    "version": 3
   },
   "file_extension": ".py",
   "mimetype": "text/x-python",
   "name": "python",
   "nbconvert_exporter": "python",
   "pygments_lexer": "ipython3",
   "version": "3.6.4"
  }
 },
 "nbformat": 4,
 "nbformat_minor": 2
}