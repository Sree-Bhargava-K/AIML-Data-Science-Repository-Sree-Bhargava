{
 "cells": [
  {
   "cell_type": "code",
   "execution_count": null,
   "metadata": {},
   "outputs": [],
   "source": [
    "import os\n",
    "import pytest\n",
    "import numpy as np\n",
    "import pandas as pd\n",
    "from scipy import stats as sps\n",
    "from insolver.feature_monitoring import ContinuousHomogeneityTests\n",
    "from insolver.feature_monitoring import psi_cont_2samp\n",
    "from insolver.model_tools import download_dataset"
   ]
  },
  {
   "cell_type": "code",
   "execution_count": null,
   "metadata": {},
   "outputs": [],
   "source": [
    "def gen_examples_cont(samp_size):\n",
    "    # SIMPLE SYNTHETIC EXAMPLES\n",
    "    examples = [\n",
    "        (np.random.uniform(0, 1, samp_size), np.random.uniform(0, 1, samp_size), 'Same distributions'),\n",
    "        (np.random.randn(samp_size) + 1000, np.random.randn(samp_size) + 1000, 'Same distributions'),\n",
    "        (sps.chi2.rvs(df=4, size=samp_size), sps.chi2.rvs(df=4, size=samp_size), 'Same distributions'),\n",
    "        (sps.chi2.rvs(df=4, size=samp_size), sps.chi2.rvs(df=4, size=samp_size) * 5, 'Different distributions'),\n",
    "        (sps.chi2.rvs(df=5, size=samp_size), sps.chi2.rvs(df=3, size=samp_size), 'Different distributions'),\n",
    "        (np.random.randn(samp_size) * 10 + 1000, np.random.randn(samp_size) * 7 + 1000, 'Different distributions'),\n",
    "        (np.random.uniform(0, 1, samp_size), np.random.uniform(0, 1.5, samp_size), 'Different distributions'),\n",
    "    ]\n\n",
    "    # EXAMPLES FROM TEST FRAME\n",
    "    # Download frame if necessary\n",
    "    if not os.path.exists('tests/data/freMPL-R.csv'):\n",
    "        download_dataset('freMPL-R', 'tests/data')\n",
    "    df = pd.read_csv('tests/data/freMPL-R.csv', low_memory=False)\n\n",
    "    # Simple check for numerical feat., no nans\n",
    "    x = df['DrivAge'].values.copy().astype(float)\n",
    "    np.random.shuffle(x)\n",
    "    x1 = x[: (len(x) // 2)]\n",
    "    x2 = x[len(x) // 2 :]\n",
    "    examples.append((x1, x2, 'Same distributions'))\n\n",
    "    # Example with same percent of nans\n",
    "    idx = np.random.choice(np.arange(len(x)), len(x) // 3, replace=False)\n",
    "    x[idx] = np.nan\n",
    "    x1 = x[: len(x) // 2]\n",
    "    x2 = x[len(x) // 2 :]\n",
    "    examples.append((x1, x2, 'Same distributions'))\n\n",
    "    # Example with different percents of nans\n",
    "    x = df['DrivAge'].values.copy().astype(float)\n",
    "    np.random.shuffle(x)\n",
    "    x1 = x[: len(x) // 2]\n",
    "    x2 = x[len(x) // 2 :]\n",
    "    idx1 = np.random.choice(np.arange(len(x1)), len(x1) // 3, replace=False)\n",
    "    idx2 = np.random.choice(np.arange(len(x2)), len(x2) // 10, replace=False)\n",
    "    x1[idx1] = np.nan  # -1\n",
    "    x2[idx2] = np.nan  # -1\n",
    "    examples.append((x1, x2, 'Different distributions'))\n\n",
    "    # Same for KBM (important case)\n",
    "    x = df['BonusMalus'].values.copy().astype(float)\n",
    "    np.random.shuffle(x)\n",
    "    x1 = x[: len(x) // 2]\n",
    "    x2 = x[len(x) // 2 :]\n",
    "    examples.append((x1, x2, 'Same distributions'))\n\n",
    "    # Example with same percent of nans\n",
    "    idx = np.random.choice(np.arange(len(x)), len(x) // 3, replace=False)\n",
    "    x[idx] = np.nan\n",
    "    x1 = x[: len(x) // 2]\n",
    "    x2 = x[len(x) // 2 :]\n",
    "    examples.append((x1, x2, 'Same distributions'))\n\n",
    "    # Example with different percents of nans\n",
    "    x = df['BonusMalus'].values.copy().astype(float)\n",
    "    np.random.shuffle(x)\n",
    "    x1 = x[: len(x) // 2]\n",
    "    x2 = x[len(x) // 2 :]\n",
    "    idx1 = np.random.choice(np.arange(len(x1)), len(x1) // 3, replace=False)\n",
    "    idx2 = np.random.choice(np.arange(len(x2)), len(x2) // 10, replace=False)\n",
    "    x1[idx1] = np.nan\n",
    "    x2[idx2] = np.nan\n",
    "    examples.append((x1, x2, 'Different distributions'))\n\n",
    "    # KBM for 2 groups of driver ages (expecting to get difference)\n",
    "    x = df['BonusMalus'].values.copy().astype(float)\n",
    "    x1 = x[df['DrivAge'] > 30]\n",
    "    x2 = x[df['DrivAge'] <= 30]\n",
    "    examples.append((x1, x2, 'Different distributions'))\n\n",
    "    # Same case with nans\n",
    "    idx = np.random.choice(np.arange(len(x)), len(x) // 3, replace=False)\n",
    "    x1 = x[df['DrivAge'] > 30]\n",
    "    x2 = x[df['DrivAge'] <= 30]\n",
    "    examples.append((x1, x2, 'Different distributions'))\n\n",
    "    # Case with low number of unique values\n",
    "    x = df['RiskArea'].values.copy()\n",
    "    np.random.shuffle(x)\n",
    "    filt = ~df['RiskArea'].isna()\n",
    "    x1 = x[filt][: len(x) // 2]\n",
    "    x2 = x[filt][len(x) // 2 :]\n",
    "    examples.append((x1, x2, 'Same distributions'))\n\n",
    "    # Same case with nans\n",
    "    x = df['RiskArea'].values.copy()\n",
    "    np.random.shuffle(x)\n",
    "    x1 = x[: len(x) // 2]\n",
    "    x2 = x[len(x) // 2 :]\n",
    "    examples.append((x1, x2, 'Same distributions'))\n\n",
    "    # Risk area for two types of social category (expecting to get difference)\n",
    "    x = df['RiskArea'].values.copy()\n",
    "    filt = ~df['RiskArea'].isna()\n",
    "    x1 = x[filt & (df['SocioCateg'] == 'CSP1')]\n",
    "    x2 = x[filt & (df['SocioCateg'] == 'CSP40')]\n",
    "    examples.append((x1, x2, 'Different distributions'))\n\n",
    "    # Same case with nans\n",
    "    x = df['RiskArea'].values.copy()\n",
    "    x1 = x[df['SocioCateg'] == 'CSP1']\n",
    "    x2 = x[df['SocioCateg'] == 'CSP40']\n",
    "    examples.append((x1, x2, 'Different distributions'))\n\n",
    "    # Delete test data\n",
    "    os.remove('tests/data/freMPL-R.csv')\n",
    "    return examples"
   ]
  },
  {
   "cell_type": "code",
   "execution_count": null,
   "metadata": {},
   "outputs": [],
   "source": [
    "@pytest.mark.parametrize('x1, x2, expected', gen_examples_cont(5000))\n",
    "def test_continuous_tests_class(x1, x2, expected):\n",
    "    homogen_tester = ContinuousHomogeneityTests(pval_thresh=0.05, samp_size=500, bootstrap_num=100)\n",
    "    test_res = homogen_tester.run_all(x1, x2)\n",
    "    for res in test_res:\n",
    "        assert res[-1] == expected"
   ]
  },
  {
   "cell_type": "markdown",
   "metadata": {},
   "source": [
    "Check psi with small difference (0.1 <= psi < 0.2)"
   ]
  },
  {
   "cell_type": "code",
   "execution_count": null,
   "metadata": {},
   "outputs": [],
   "source": [
    "def test_psi_cont_small_diff():\n",
    "    x1 = sps.chi2.rvs(df=4, size=5000)\n",
    "    x2 = sps.chi2.rvs(df=5, size=5000)\n",
    "    homogen_tester = ContinuousHomogeneityTests(pval_thresh=0.05, samp_size=500, bootstrap_num=100)\n",
    "    psi_res = homogen_tester.run_all(x1, x2)[-1]\n",
    "    assert psi_res[-1] == 'Small difference'"
   ]
  },
  {
   "cell_type": "markdown",
   "metadata": {},
   "source": [
    "Check if class recognises too small data in input"
   ]
  },
  {
   "cell_type": "code",
   "execution_count": null,
   "metadata": {},
   "outputs": [],
   "source": [
    "def test_shape_error_cont():\n",
    "    with pytest.raises(Exception):\n",
    "        homogen_tester = ContinuousHomogeneityTests(pval_thresh=0.05, samp_size=500, bootstrap_num=100)\n",
    "        _ = homogen_tester.run_all(np.array([]), np.array([]))\n",
    "    with pytest.raises(Exception):\n",
    "        homogen_tester = ContinuousHomogeneityTests(pval_thresh=0.05, samp_size=500, bootstrap_num=100)\n",
    "        _ = homogen_tester.run_all(np.zeros([100]), np.ones([200]))\n",
    "    with pytest.raises(Exception):\n",
    "        homogen_tester = ContinuousHomogeneityTests(pval_thresh=0.05, samp_size=500, bootstrap_num=100)\n",
    "        _ = homogen_tester.run_all(np.zeros([550]), np.ones([550]))"
   ]
  },
  {
   "cell_type": "markdown",
   "metadata": {},
   "source": [
    "Check if class recognises type missmatches"
   ]
  },
  {
   "cell_type": "code",
   "execution_count": null,
   "metadata": {},
   "outputs": [],
   "source": [
    "def test_type_error_cont():\n",
    "    with pytest.raises(Exception):\n",
    "        homogen_tester = ContinuousHomogeneityTests(pval_thresh=0.05, samp_size=500, bootstrap_num=100)\n",
    "        _ = homogen_tester.run_all([0] * 1000, [1] * 2000)\n",
    "    with pytest.raises(Exception):\n",
    "        homogen_tester = ContinuousHomogeneityTests(pval_thresh=0.05, samp_size=500, bootstrap_num=100)\n",
    "        _ = homogen_tester.run_all(np.random.randint(0, 5, 1000), np.random.randn(2000))"
   ]
  },
  {
   "cell_type": "markdown",
   "metadata": {},
   "source": [
    "Check if class recognises bad hypeparameters"
   ]
  },
  {
   "cell_type": "code",
   "execution_count": null,
   "metadata": {},
   "outputs": [],
   "source": [
    "def test_attr_error_cont():\n",
    "    with pytest.raises(Exception):\n",
    "        _ = ContinuousHomogeneityTests(pval_thresh=1.02, samp_size=500, bootstrap_num=100)\n",
    "    with pytest.raises(Exception):\n",
    "        _ = ContinuousHomogeneityTests(pval_thresh=0.02, samp_size=90, bootstrap_num=100)\n",
    "    with pytest.raises(Exception):\n",
    "        _ = ContinuousHomogeneityTests(pval_thresh=0.02, samp_size=500, bootstrap_num=5)"
   ]
  },
  {
   "cell_type": "markdown",
   "metadata": {},
   "source": [
    "Check if nan_value for continuous psi test is always minimum in both arrays.<br>\n",
    "It is important because we cannot fill nans with values<br>\n",
    "which can seen in x1 or x2 as it will modify actual distributions."
   ]
  },
  {
   "cell_type": "code",
   "execution_count": null,
   "metadata": {},
   "outputs": [],
   "source": [
    "def test_psi_cont_bad_nan():\n",
    "    with pytest.raises(Exception):\n",
    "        x1 = np.random.randn(1000)\n",
    "        x2 = np.random.randn(1000)\n",
    "        _ = psi_cont_2samp(x1, x2, nan_value=-1)"
   ]
  }
 ],
 "metadata": {
  "kernelspec": {
   "display_name": "Python 3",
   "language": "python",
   "name": "python3"
  },
  "language_info": {
   "codemirror_mode": {
    "name": "ipython",
    "version": 3
   },
   "file_extension": ".py",
   "mimetype": "text/x-python",
   "name": "python",
   "nbconvert_exporter": "python",
   "pygments_lexer": "ipython3",
   "version": "3.6.4"
  }
 },
 "nbformat": 4,
 "nbformat_minor": 2
}