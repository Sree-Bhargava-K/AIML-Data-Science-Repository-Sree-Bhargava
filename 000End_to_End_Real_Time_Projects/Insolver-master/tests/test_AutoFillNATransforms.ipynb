{
 "cells": [
  {
   "cell_type": "code",
   "execution_count": null,
   "metadata": {},
   "outputs": [],
   "source": [
    "import numpy as np\n",
    "import pandas as pd"
   ]
  },
  {
   "cell_type": "code",
   "execution_count": null,
   "metadata": {},
   "outputs": [],
   "source": [
    "from insolver.frame import InsolverDataFrame\n",
    "from insolver.transforms import InsolverTransform, AutoFillNATransforms"
   ]
  },
  {
   "cell_type": "code",
   "execution_count": null,
   "metadata": {},
   "outputs": [],
   "source": [
    "def test_fillna_numerical():\n",
    "    df_test = InsolverDataFrame(pd.DataFrame(data={'col1': [1, 2, np.nan]}))\n",
    "    df_transformed = InsolverTransform(\n",
    "        df_test,\n",
    "        [\n",
    "            AutoFillNATransforms(),\n",
    "        ],\n",
    "    )\n",
    "    df_transformed.ins_transform()\n",
    "    assert df_transformed['col1'][2] == 1.5"
   ]
  },
  {
   "cell_type": "code",
   "execution_count": null,
   "metadata": {},
   "outputs": [],
   "source": [
    "def test_fillna_numerical_all_na():\n",
    "    df_test = InsolverDataFrame(pd.DataFrame(data={'col1': [np.nan, np.nan, np.nan]}))\n",
    "    df_transformed = InsolverTransform(\n",
    "        df_test,\n",
    "        [\n",
    "            AutoFillNATransforms(),\n",
    "        ],\n",
    "    )\n",
    "    df_transformed.ins_transform()\n",
    "    assert df_transformed['col1'][0] == 1\n",
    "    assert df_transformed['col1'][1] == 1\n",
    "    assert df_transformed['col1'][2] == 1"
   ]
  },
  {
   "cell_type": "code",
   "execution_count": null,
   "metadata": {},
   "outputs": [],
   "source": [
    "def test_fillna_categorical():\n",
    "    df_test = InsolverDataFrame(pd.DataFrame(data={'col1': ['A', 'B', 'C', 'A', None]}))\n",
    "    df_transformed = InsolverTransform(\n",
    "        df_test,\n",
    "        [\n",
    "            AutoFillNATransforms(),\n",
    "        ],\n",
    "    )\n",
    "    df_transformed.ins_transform()\n",
    "    assert df_transformed['col1'][4] == 'A'"
   ]
  },
  {
   "cell_type": "code",
   "execution_count": null,
   "metadata": {},
   "outputs": [],
   "source": [
    "def test_fillna_categorical_all_na():\n",
    "    df_test = InsolverDataFrame(pd.DataFrame(data={'col1': [None, None, None]}))\n",
    "    df_transformed = InsolverTransform(\n",
    "        df_test,\n",
    "        [\n",
    "            AutoFillNATransforms(),\n",
    "        ],\n",
    "    )\n",
    "    df_transformed.ins_transform()\n",
    "    assert df_transformed['col1'][0] == 1\n",
    "    assert df_transformed['col1'][1] == 1\n",
    "    assert df_transformed['col1'][2] == 1"
   ]
  }
 ],
 "metadata": {
  "kernelspec": {
   "display_name": "Python 3",
   "language": "python",
   "name": "python3"
  },
  "language_info": {
   "codemirror_mode": {
    "name": "ipython",
    "version": 3
   },
   "file_extension": ".py",
   "mimetype": "text/x-python",
   "name": "python",
   "nbconvert_exporter": "python",
   "pygments_lexer": "ipython3",
   "version": "3.6.4"
  }
 },
 "nbformat": 4,
 "nbformat_minor": 2
}