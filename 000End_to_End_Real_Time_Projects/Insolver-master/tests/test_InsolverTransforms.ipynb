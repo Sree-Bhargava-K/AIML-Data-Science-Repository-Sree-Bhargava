{
 "cells": [
  {
   "cell_type": "code",
   "execution_count": null,
   "metadata": {},
   "outputs": [],
   "source": [
    "import pandas as pd"
   ]
  },
  {
   "cell_type": "code",
   "execution_count": null,
   "metadata": {},
   "outputs": [],
   "source": [
    "from insolver.transforms import (\n",
    "    TransformExp,\n",
    "    TransformAge,\n",
    ")"
   ]
  },
  {
   "cell_type": "code",
   "execution_count": null,
   "metadata": {},
   "outputs": [],
   "source": [
    "df = pd.read_csv('tests/data/freMPL-R_100.csv')"
   ]
  },
  {
   "cell_type": "code",
   "execution_count": null,
   "metadata": {},
   "outputs": [],
   "source": [
    "def test_TransformExp():\n",
    "    # transform_exp = TransformExp('LicAge', 57)\n",
    "    exp_max = 52\n",
    "    assert TransformExp._exp(50, exp_max) == 50\n",
    "    assert TransformExp._exp(60, exp_max) == 52\n",
    "    assert TransformExp._exp(None, exp_max) is None\n",
    "    assert TransformExp._exp(-5, exp_max) is None\n",
    "    assert TransformExp._exp(0, exp_max) == 0"
   ]
  },
  {
   "cell_type": "code",
   "execution_count": null,
   "metadata": {},
   "outputs": [],
   "source": [
    "def test_TransformAge():\n",
    "    # TransformAge('DrivAge', 18, 75)\n",
    "    age_min = 18\n",
    "    age_max = 70\n",
    "    assert TransformAge._age(None, age_min, age_max) is None\n",
    "    assert TransformAge._age(16, age_min, age_max) is None\n",
    "    assert TransformAge._age(80, age_min, age_max) == 70\n",
    "    assert TransformAge._age(50, age_min, age_max) == 50"
   ]
  }
 ],
 "metadata": {
  "kernelspec": {
   "display_name": "Python 3",
   "language": "python",
   "name": "python3"
  },
  "language_info": {
   "codemirror_mode": {
    "name": "ipython",
    "version": 3
   },
   "file_extension": ".py",
   "mimetype": "text/x-python",
   "name": "python",
   "nbconvert_exporter": "python",
   "pygments_lexer": "ipython3",
   "version": "3.6.4"
  }
 },
 "nbformat": 4,
 "nbformat_minor": 2
}