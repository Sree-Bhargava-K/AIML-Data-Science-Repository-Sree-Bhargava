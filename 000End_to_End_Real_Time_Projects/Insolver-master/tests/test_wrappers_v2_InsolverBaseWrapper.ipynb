{
 "cells": [
  {
   "cell_type": "code",
   "execution_count": null,
   "metadata": {},
   "outputs": [],
   "source": [
    "import pytest"
   ]
  },
  {
   "cell_type": "code",
   "execution_count": null,
   "metadata": {},
   "outputs": [],
   "source": [
    "from insolver.wrappers_v2 import InsolverBaseWrapper\n",
    "from insolver.wrappers_v2.utils import save_pickle, save_dill"
   ]
  },
  {
   "cell_type": "code",
   "execution_count": null,
   "metadata": {},
   "outputs": [],
   "source": [
    "class DescendantInsolverBaseWrapper(InsolverBaseWrapper):\n",
    "    algo = 'dummy'\n",
    "    _backend_saving_methods = {'some_backend': {'pickle': save_pickle, 'dill': save_dill}}\n",
    "    def __init__(self, backend, task):\n",
    "        self._get_init_args(vars())\n",
    "        self.backend = backend\n",
    "        self.task = task"
   ]
  },
  {
   "cell_type": "code",
   "execution_count": null,
   "metadata": {},
   "outputs": [],
   "source": [
    "def test_InsolverBaseWrapper():\n",
    "    descendant = DescendantInsolverBaseWrapper(backend='some_backend', task='nothing')\n",
    "    assert descendant.metadata == {\n",
    "        'init_params': {'backend': 'some_backend', 'task': 'nothing'},\n",
    "        'is_fitted': False,\n",
    "        'algo': 'dummy',\n",
    "    }\n",
    "    assert descendant.algo == 'dummy'\n",
    "    assert descendant.model is None\n",
    "    assert descendant() is None\n",
    "    assert descendant._backend_saving_methods == {'some_backend': {'pickle': save_pickle, 'dill': save_dill}}\n",
    "    descendant._update_metadata()\n",
    "    assert descendant.metadata == {\n",
    "        'init_params': {'backend': 'some_backend', 'task': 'nothing'},\n",
    "        'backend': 'some_backend',\n",
    "        'task': 'nothing',\n",
    "        'algo': 'dummy',\n",
    "        'is_fitted': False,\n",
    "    }"
   ]
  },
  {
   "cell_type": "code",
   "execution_count": null,
   "metadata": {},
   "outputs": [],
   "source": [
    "def test_InsolverBaseWrapper_save_model():\n",
    "    descendant = DescendantInsolverBaseWrapper(backend='some_backend', task='nothing')\n",
    "    descendant._update_metadata()\n",
    "    with pytest.raises(ValueError, match=\"No fitted model found. Fit model first.\"):\n",
    "        descendant.save_model()\n",
    "    descendant.model = {'dummy_object': \"model\"}\n",
    "    with pytest.raises(ValueError, match=r'Invalid method \".*\". Supported values for .* backend are .*'):\n",
    "        descendant.save_model(method='some_new_method')\n\n",
    "    # model_to_str = descendant.save_model()\n",
    "    # assert isinstance(model_to_str, bytes)\n\n",
    "    # model_to_str = descendant.save_model(method='pickle')\n",
    "    # assert isinstance(model_to_str, bytes)\n\n",
    "    # model_to_str = descendant.save_model(method='dill')\n",
    "    # assert isinstance(model_to_str, bytes)"
   ]
  }
 ],
 "metadata": {
  "kernelspec": {
   "display_name": "Python 3",
   "language": "python",
   "name": "python3"
  },
  "language_info": {
   "codemirror_mode": {
    "name": "ipython",
    "version": 3
   },
   "file_extension": ".py",
   "mimetype": "text/x-python",
   "name": "python",
   "nbconvert_exporter": "python",
   "pygments_lexer": "ipython3",
   "version": "3.6.4"
  }
 },
 "nbformat": 4,
 "nbformat_minor": 2
}