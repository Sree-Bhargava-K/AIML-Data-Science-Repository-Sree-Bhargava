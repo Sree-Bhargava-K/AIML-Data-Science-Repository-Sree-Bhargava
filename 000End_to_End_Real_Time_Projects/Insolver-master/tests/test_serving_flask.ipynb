{
 "cells": [
  {
   "cell_type": "code",
   "execution_count": null,
   "metadata": {},
   "outputs": [],
   "source": [
    "import os\n",
    "import json\n",
    "import importlib\n",
    "from io import StringIO"
   ]
  },
  {
   "cell_type": "code",
   "execution_count": null,
   "metadata": {},
   "outputs": [],
   "source": [
    "import h2o.exceptions\n",
    "import pytest\n",
    "import pandas as pd\n",
    "import insolver\n",
    "from insolver import InsolverDataFrame\n",
    "from insolver.wrappers import InsolverGLMWrapper\n",
    "from insolver.transforms import (\n",
    "    InsolverTransform,\n",
    "    TransformAge,\n",
    "    TransformMapValues,\n",
    "    TransformPolynomizer,\n",
    "    TransformAgeGender,\n",
    ")"
   ]
  },
  {
   "cell_type": "code",
   "execution_count": null,
   "metadata": {},
   "outputs": [],
   "source": [
    "class TransformExp:\n",
    "    def __init__(self, column_driver_minexp, exp_max=52):\n",
    "        self.priority = 1\n",
    "        self.column_driver_minexp = column_driver_minexp\n",
    "        self.exp_max = exp_max\n",
    "    @staticmethod\n",
    "    def _exp(exp, exp_max):\n",
    "        if pd.isnull(exp):\n",
    "            exp = None\n",
    "        elif exp < 0:\n",
    "            exp = None\n",
    "        else:\n",
    "            exp = exp // 12\n",
    "        if exp > exp_max:\n",
    "            exp = exp_max\n",
    "        return exp\n",
    "    def __call__(self, df):\n",
    "        df[self.column_driver_minexp] = df[self.column_driver_minexp].apply(self._exp, args=(self.exp_max,))\n",
    "        return df"
   ]
  },
  {
   "cell_type": "code",
   "execution_count": null,
   "metadata": {},
   "outputs": [],
   "source": [
    "features = [\n",
    "    'LicAge',\n",
    "    'Gender',\n",
    "    'MariStat',\n",
    "    'DrivAge',\n",
    "    'HasKmLimit',\n",
    "    'BonusMalus',\n",
    "    'RiskArea',\n",
    "    'Age_m',\n",
    "    'Age_f',\n",
    "    'Age_m_2',\n",
    "    'Age_f_2',\n",
    "]\n",
    "target = 'ClaimAmount'"
   ]
  },
  {
   "cell_type": "code",
   "execution_count": null,
   "metadata": {},
   "outputs": [],
   "source": [
    "train_df = (\n",
    "    'LicAge,Gender,MariStat,DrivAge,HasKmLimit,BonusMalus,RiskArea,ClaimAmount\\r\\n'\n",
    "    '55,Female,Alone,37,0,95,11.0,3689.5413897281\\r\\n'\n",
    "    '346,Male,Other,50,0,50,10.0,791.593957703927\\r\\n'\n",
    "    '473,Male,Other,60,0,50,4.0,1096.88972809668\\r\\n'\n",
    "    '159,Female,Other,40,1,54,9.0,179.258610271903\\r\\n'\n",
    "    '419,Female,Other,66,0,50,3.0,84.4567975830816\\r\\n'\n",
    "    '393,Female,Other,58,0,50,9.0,1415.59395770393\\r\\n'\n",
    ")"
   ]
  },
  {
   "cell_type": "code",
   "execution_count": null,
   "metadata": {},
   "outputs": [],
   "source": [
    "test_df = (\n",
    "    'LicAge,Gender,MariStat,DrivAge,HasKmLimit,BonusMalus,RiskArea,ClaimAmount\\r\\n'\n",
    "    '393,Female,Other,58,0,50,9.0,1415.59395770393\\r\\n'\n",
    ")"
   ]
  },
  {
   "cell_type": "code",
   "execution_count": null,
   "metadata": {},
   "outputs": [],
   "source": [
    "train_df = InsolverDataFrame(pd.read_csv(StringIO(train_df)))\n",
    "test_df = pd.read_csv(StringIO(test_df))"
   ]
  },
  {
   "cell_type": "code",
   "execution_count": null,
   "metadata": {},
   "outputs": [],
   "source": [
    "InsTransforms = InsolverTransform(\n",
    "    train_df,\n",
    "    [\n",
    "        TransformAge('DrivAge', 18, 75),\n",
    "        TransformExp('LicAge', 57),\n",
    "        TransformMapValues('Gender', {'Male': 0, 'Female': 1}),\n",
    "        TransformMapValues('MariStat', {'Other': 0, 'Alone': 1}),\n",
    "        TransformAgeGender('DrivAge', 'Gender', 'Age_m', 'Age_f', age_default=18, gender_male=0, gender_female=1),\n",
    "        TransformPolynomizer('Age_m'),\n",
    "        TransformPolynomizer('Age_f'),\n",
    "    ],\n",
    ")\n",
    "InsTransforms.ins_transform()\n",
    "InsTransforms.save('transforms.pickle')"
   ]
  },
  {
   "cell_type": "code",
   "execution_count": null,
   "metadata": {},
   "outputs": [],
   "source": [
    "x_train = InsTransforms.loc[InsTransforms.index.tolist()[:-1], features]\n",
    "y_train = InsTransforms.loc[InsTransforms.index.tolist()[:-1], target]\n",
    "x_test = InsTransforms.loc[[InsTransforms.index.tolist()[-1]], features]"
   ]
  },
  {
   "cell_type": "code",
   "execution_count": null,
   "metadata": {},
   "outputs": [],
   "source": [
    "iglm = InsolverGLMWrapper(backend='h2o', family='gamma', link='log')\n",
    "iglm.fit(x_train, y_train)\n",
    "iglm.save_model(name='test_glm_model')"
   ]
  },
  {
   "cell_type": "code",
   "execution_count": null,
   "metadata": {},
   "outputs": [],
   "source": [
    "predict = iglm.predict(x_test)\n",
    "request_json_h2o = {'df': json.loads(test_df.iloc[0].to_json())}"
   ]
  },
  {
   "cell_type": "code",
   "execution_count": null,
   "metadata": {},
   "outputs": [],
   "source": [
    "with open(\"./dev/test_request_frempl.json\", 'r') as file_:\n",
    "    request_json = json.load(file_)"
   ]
  },
  {
   "cell_type": "code",
   "execution_count": null,
   "metadata": {},
   "outputs": [],
   "source": [
    "@pytest.mark.xfail(raises=h2o.exceptions.H2OServerError)\n",
    "def test_h2o_model():\n",
    "    os.environ['model_path'] = './test_glm_model.h2o'\n",
    "    os.environ['transforms_path'] = './transforms.pickle'\n",
    "    from insolver.serving.flask_app import app\n",
    "    os.remove(\"test_glm_model.h2o\")\n",
    "    app.testing = True\n",
    "    with app.test_client() as client:\n",
    "        response = client.post(\n",
    "            '/predict',\n",
    "            data=json.dumps(request_json_h2o),\n",
    "            content_type='application/json',\n",
    "        )\n",
    "        data = json.loads(response.get_data(as_text=True))\n",
    "        assert response.status_code == 200\n",
    "        assert round(data['predicted'][0], 7) == round(predict[0], 7)"
   ]
  },
  {
   "cell_type": "code",
   "execution_count": null,
   "metadata": {},
   "outputs": [],
   "source": [
    "def test_index_page():\n",
    "    os.environ['model_path'] = './dev/insolver_gbm_lightgbm_1657653374832.pickle'\n",
    "    os.environ['transforms_path'] = './dev/transforms'\n",
    "    importlib.reload(insolver.serving.flask_app)\n",
    "    from insolver.serving.flask_app import app\n",
    "    app.testing = True\n",
    "    with app.test_client() as client:\n",
    "        response = client.get()\n",
    "        assert response.status_code == 200"
   ]
  },
  {
   "cell_type": "code",
   "execution_count": null,
   "metadata": {},
   "outputs": [],
   "source": [
    "def test_flask_transforms_inference():\n",
    "    os.environ['model_path'] = './dev/insolver_gbm_lightgbm_1657653374832.pickle'\n",
    "    os.environ['transforms_path'] = './transforms.pickle'\n",
    "    importlib.reload(insolver.serving.flask_app)\n",
    "    from insolver.serving.flask_app import app\n",
    "    os.remove(\"transforms.pickle\")\n",
    "    app.testing = True\n",
    "    with app.test_client() as c:\n",
    "        response = c.post(\n",
    "            '/predict',\n",
    "            data=json.dumps(request_json),\n",
    "            content_type='application/json',\n",
    "        )\n",
    "        data = json.loads(response.get_data(as_text=True))\n",
    "        assert round(data['predicted'][0], 5) == {\"predicted\": [1598.11057]}['predicted'][0]\n",
    "        assert response.status_code == 200"
   ]
  }
 ],
 "metadata": {
  "kernelspec": {
   "display_name": "Python 3",
   "language": "python",
   "name": "python3"
  },
  "language_info": {
   "codemirror_mode": {
    "name": "ipython",
    "version": 3
   },
   "file_extension": ".py",
   "mimetype": "text/x-python",
   "name": "python",
   "nbconvert_exporter": "python",
   "pygments_lexer": "ipython3",
   "version": "3.6.4"
  }
 },
 "nbformat": 4,
 "nbformat_minor": 2
}