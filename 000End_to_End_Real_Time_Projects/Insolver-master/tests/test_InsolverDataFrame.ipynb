{
 "cells": [
  {
   "cell_type": "code",
   "execution_count": null,
   "metadata": {},
   "outputs": [],
   "source": [
    "import pandas as pd\n",
    "from insolver import InsolverDataFrame"
   ]
  },
  {
   "cell_type": "code",
   "execution_count": null,
   "metadata": {},
   "outputs": [],
   "source": [
    "df = pd.DataFrame({'col1': [1], 'col2': [2]})"
   ]
  },
  {
   "cell_type": "code",
   "execution_count": null,
   "metadata": {},
   "outputs": [],
   "source": [
    "def test_InsolverDataFrame():\n",
    "    insdf = InsolverDataFrame(df)\n",
    "    assert hasattr(insdf, 'get_meta_info')\n",
    "    assert hasattr(insdf, 'split_frame')\n",
    "    assert hasattr(insdf, 'sample_request')"
   ]
  },
  {
   "cell_type": "code",
   "execution_count": null,
   "metadata": {},
   "outputs": [],
   "source": [
    "def test_get_meta_info():\n",
    "    insdf = InsolverDataFrame(df)\n",
    "    meta_info = insdf.get_meta_info()\n",
    "    assert meta_info['type'] == 'InsolverDataFrame'\n",
    "    assert meta_info['len'] == 1\n",
    "    assert meta_info['columns'][0]['name'] == 'col1'\n",
    "    assert meta_info['columns'][1]['name'] == 'col2'\n",
    "    assert meta_info['columns'][0]['use'] == 'unknown'\n",
    "    assert meta_info['columns'][1]['use'] == 'unknown'\n",
    "    assert meta_info['columns'][0]['dtype'] == df.col1.dtypes\n",
    "    assert meta_info['columns'][1]['dtype'] == df.col2.dtypes"
   ]
  },
  {
   "cell_type": "code",
   "execution_count": null,
   "metadata": {},
   "outputs": [],
   "source": [
    "def test_sample_request():\n",
    "    insdf = InsolverDataFrame(df)\n",
    "    request = insdf.sample_request()\n",
    "    assert request['df'] == {'col1': 1, 'col2': 2}"
   ]
  }
 ],
 "metadata": {
  "kernelspec": {
   "display_name": "Python 3",
   "language": "python",
   "name": "python3"
  },
  "language_info": {
   "codemirror_mode": {
    "name": "ipython",
    "version": 3
   },
   "file_extension": ".py",
   "mimetype": "text/x-python",
   "name": "python",
   "nbconvert_exporter": "python",
   "pygments_lexer": "ipython3",
   "version": "3.6.4"
  }
 },
 "nbformat": 4,
 "nbformat_minor": 2
}