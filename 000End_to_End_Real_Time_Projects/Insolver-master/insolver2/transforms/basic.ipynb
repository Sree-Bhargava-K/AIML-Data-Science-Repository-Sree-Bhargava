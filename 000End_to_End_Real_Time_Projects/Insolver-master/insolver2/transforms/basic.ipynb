{
 "cells": [
  {
   "cell_type": "code",
   "execution_count": null,
   "metadata": {},
   "outputs": [],
   "source": [
    "from pandas import DataFrame, to_numeric, concat, get_dummies\n",
    "from sklearn.preprocessing import LabelEncoder, OneHotEncoder"
   ]
  },
  {
   "cell_type": "code",
   "execution_count": null,
   "metadata": {},
   "outputs": [],
   "source": [
    "class TransformToNumeric:\n",
    "    \"\"\"Transforms parameter's values to numeric types, uses Pandas' 'to_numeric'.\n",
    "    Parameters:\n",
    "        column_param (str): Column name in InsolverDataFrame containing parameter to transform.\n",
    "        downcast: Target numeric dtype, equal to Pandas' 'downcast' in the 'to_numeric' function, 'integer' by default.\n",
    "    \"\"\"\n",
    "    def __init__(self, column_param, downcast='integer', priority=0):\n",
    "        self.priority = priority\n",
    "        self.column_param = column_param\n",
    "        self.downcast = downcast\n",
    "    def __call__(self, df):\n",
    "        df[self.column_param] = to_numeric(df[self.column_param], downcast=self.downcast)\n",
    "        return df"
   ]
  },
  {
   "cell_type": "code",
   "execution_count": null,
   "metadata": {},
   "outputs": [],
   "source": [
    "class TransformMapValues:\n",
    "    \"\"\"Transforms parameter's values according to the dictionary.\n",
    "    Parameters:\n",
    "        column_param (str): Column name in InsolverDataFrame containing parameter to map.\n",
    "        dictionary (dict): The dictionary for mapping.\n",
    "    \"\"\"\n",
    "    def __init__(self, column_param, dictionary, priority=1):\n",
    "        self.priority = priority\n",
    "        self.column_param = column_param\n",
    "        self.dictionary = dictionary\n",
    "    def __call__(self, df):\n",
    "        df[self.column_param] = df[self.column_param].map(self.dictionary)\n",
    "        return df"
   ]
  },
  {
   "cell_type": "code",
   "execution_count": null,
   "metadata": {},
   "outputs": [],
   "source": [
    "class TransformPolynomizer:\n",
    "    \"\"\"Gets polynomials of parameter's values.\n",
    "    Parameters:\n",
    "        column_param (str): Column name in InsolverDataFrame containing parameter to polynomize.\n",
    "        n (int): Polynomial degree.\n",
    "    \"\"\"\n",
    "    def __init__(self, column_param, n=2, priority=3):\n",
    "        self.priority = priority\n",
    "        self.column_param = column_param\n",
    "        self.n = n\n",
    "    def __call__(self, df):\n",
    "        for i in range(2, self.n + 1):\n",
    "            a = self.column_param + '_' + str(i)\n",
    "            while a in list(df.columns):\n",
    "                a = a + '_'\n",
    "            df[a] = df[self.column_param] ** i\n",
    "        return df"
   ]
  },
  {
   "cell_type": "code",
   "execution_count": null,
   "metadata": {},
   "outputs": [],
   "source": [
    "class TransformGetDummies:\n",
    "    \"\"\"Gets dummy columns of the parameter, uses Pandas' 'get_dummies'.\n",
    "    Parameters:\n",
    "        column_param (str): Column name in InsolverDataFrame containing parameter to transform.\n",
    "        drop_first (bool): Whether to get k-1 dummies out of k categorical levels by removing the first level,\n",
    "            False by default.\n",
    "        inference (bool): Sign if the transformation is used for inference, False by default.\n",
    "        dummy_columns (list): List of the dummy columns, for inference only.\n",
    "    \"\"\"\n",
    "    def __init__(self, column_param, drop_first=False, inference=False, dummy_columns=None, priority=3):\n",
    "        self.priority = priority\n",
    "        self.column_param = column_param\n",
    "        self.drop_first = drop_first\n",
    "        self.inference = inference\n",
    "        if inference and dummy_columns is not None:\n",
    "            self.dummy_columns = dummy_columns\n",
    "        else:\n",
    "            self.dummy_columns = []\n",
    "    def __call__(self, df):\n",
    "        if self.dummy_columns == list():\n",
    "            df_dummy = get_dummies(df[[self.column_param]], prefix_sep='_', drop_first=self.drop_first)\n",
    "            self.dummy_columns = list([col.replace(' ', '_') for col in df_dummy.columns])\n",
    "            df_dummy.columns = self.dummy_columns\n",
    "            df = concat([df, df_dummy], axis=1)\n",
    "        else:\n",
    "            for column in self.dummy_columns:\n",
    "                df[column] = ((self.column_param + '_' + df[self.column_param]) == column).astype('int8')\n",
    "        return df"
   ]
  },
  {
   "cell_type": "code",
   "execution_count": null,
   "metadata": {},
   "outputs": [],
   "source": [
    "class EncoderTransforms:\n",
    "    \"\"\"Label Encoder\n",
    "    Parameters:\n",
    "        column_names (list): columns for label encoding\n",
    "        le_classes (dict): dictionary with label encoding classes for each column\n",
    "    \"\"\"\n",
    "    def __init__(self, column_names, le_classes=None, priority=3):\n",
    "        self.priority = priority\n",
    "        self.column_names = column_names\n",
    "        self.le_classes = le_classes\n",
    "    @staticmethod\n",
    "    def _encode_column(column):\n",
    "        le = LabelEncoder()\n",
    "        le.fit(column)\n",
    "        le_classes = le.classes_.tolist()\n",
    "        column = le.transform(column)\n",
    "        return column, le_classes\n",
    "    def __call__(self, df):\n",
    "        self.le_classes = {}\n",
    "        for column_name in self.column_names:\n",
    "            df[column_name], self.le_classes[column_name] = self._encode_column(df[column_name])\n",
    "        return df"
   ]
  },
  {
   "cell_type": "code",
   "execution_count": null,
   "metadata": {},
   "outputs": [],
   "source": [
    "class OneHotEncoderTransforms:\n",
    "    \"\"\"OneHotEncoder Transformations\n",
    "    Parameters:\n",
    "        column_names (list): columns for one hot encoding\n",
    "        encoder_dict (dict): dictionary with encoder_params for each column\n",
    "    \"\"\"\n",
    "    def __init__(self, column_names, encoder_dict=None, priority=3):\n",
    "        self.priority = priority\n",
    "        self.column_names = column_names\n",
    "        self.encoder_dict = encoder_dict\n",
    "    @staticmethod\n",
    "    def _encode_column(df, column_name):\n",
    "        encoder = OneHotEncoder(sparse=False)\n",
    "        encoder.fit(df[[column_name]])\n",
    "        encoder_params = encoder.categories_\n",
    "        encoder_params = [x.tolist() for x in encoder_params]\n",
    "        column_encoded = DataFrame(encoder.transform(df[[column_name]]))\n",
    "        column_encoded.columns = encoder.get_feature_names_out([column_name])\n",
    "        for column in column_encoded.columns:\n",
    "            df[column] = column_encoded[column]\n",
    "        return encoder_params\n",
    "    def __call__(self, df):\n",
    "        self.encoder_dict = {}\n",
    "        for column in self.column_names:\n",
    "            encoder_params = self._encode_column(df, column)\n",
    "            self.encoder_dict[column] = encoder_params\n",
    "            df.drop([column], axis=1, inplace=True)\n",
    "        return df"
   ]
  }
 ],
 "metadata": {
  "kernelspec": {
   "display_name": "Python 3",
   "language": "python",
   "name": "python3"
  },
  "language_info": {
   "codemirror_mode": {
    "name": "ipython",
    "version": 3
   },
   "file_extension": ".py",
   "mimetype": "text/x-python",
   "name": "python",
   "nbconvert_exporter": "python",
   "pygments_lexer": "ipython3",
   "version": "3.6.4"
  }
 },
 "nbformat": 4,
 "nbformat_minor": 2
}