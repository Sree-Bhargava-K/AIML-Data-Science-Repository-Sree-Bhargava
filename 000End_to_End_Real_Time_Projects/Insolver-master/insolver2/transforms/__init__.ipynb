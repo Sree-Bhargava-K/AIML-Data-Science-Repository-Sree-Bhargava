{
 "cells": [
  {
   "cell_type": "code",
   "execution_count": null,
   "metadata": {},
   "outputs": [],
   "source": [
    "from .core import InsolverTransform, load_transforms\n",
    "from .basic import *\n",
    "from .autofillna import *\n",
    "from .date_time import *\n",
    "from .grouping_sorting import *\n",
    "from .insurance import *\n",
    "from .person import *"
   ]
  }
 ],
 "metadata": {
  "kernelspec": {
   "display_name": "Python 3",
   "language": "python",
   "name": "python3"
  },
  "language_info": {
   "codemirror_mode": {
    "name": "ipython",
    "version": 3
   },
   "file_extension": ".py",
   "mimetype": "text/x-python",
   "name": "python",
   "nbconvert_exporter": "python",
   "pygments_lexer": "ipython3",
   "version": "3.6.4"
  }
 },
 "nbformat": 4,
 "nbformat_minor": 2
}