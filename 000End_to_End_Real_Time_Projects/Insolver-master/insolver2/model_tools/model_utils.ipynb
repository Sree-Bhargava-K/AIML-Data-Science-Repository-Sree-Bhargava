{
 "cells": [
  {
   "cell_type": "code",
   "execution_count": null,
   "metadata": {},
   "outputs": [],
   "source": [
    "from sklearn.model_selection import train_test_split"
   ]
  },
  {
   "cell_type": "code",
   "execution_count": null,
   "metadata": {},
   "outputs": [],
   "source": [
    "def train_val_test_split(*arrays, val_size, test_size, random_state=0, shuffle=True, stratify=None):\n",
    "    \"\"\"Function for splitting dataset into train/validation/test partitions.\n",
    "    Args:\n",
    "        *arrays (array_like): Arrays to split into train/validation/test sets containing predictors.\n",
    "        val_size (float): The proportion of the dataset to include in validation partition.\n",
    "        test_size (float): The proportion of the dataset to include in test partition.\n",
    "        random_state (int, optional): Random state, passed to train_test_split() from scikit-learn. (default=0).\n",
    "        shuffle (bool, optional): Passed to train_test_split() from scikit-learn. (default=True).\n",
    "        stratify (array_like, optional): Passed to train_test_split() from scikit-learn. (default=None).\n",
    "    Returns:\n",
    "        list: [x_train, x_valid, x_test, y_train, y_valid, y_test].\n",
    "        A list of partitions of the initial dataset.\n",
    "    \"\"\"\n",
    "    n_arrays = len(arrays)\n",
    "    split1 = train_test_split(\n",
    "        *arrays, random_state=random_state, shuffle=shuffle, test_size=test_size, stratify=stratify\n",
    "    )\n",
    "    if n_arrays > 1:\n",
    "        train, test = split1[0::2], split1[1::2]\n",
    "        if val_size != 0:\n",
    "            split2 = train_test_split(\n",
    "                *train,\n",
    "                random_state=random_state,\n",
    "                shuffle=shuffle,\n",
    "                test_size=val_size / (1 - test_size),\n",
    "                stratify=stratify\n",
    "            )\n",
    "            train, valid = split2[0::2], split2[1::2]\n",
    "            return [*train, *valid, *test]\n",
    "        else:\n",
    "            return [*train, *test]\n",
    "    else:\n",
    "        train, test = split1[0], split1[1]\n",
    "        if val_size != 0:\n",
    "            split2 = train_test_split(\n",
    "                train,\n",
    "                random_state=random_state,\n",
    "                shuffle=shuffle,\n",
    "                test_size=val_size / (1 - test_size),\n",
    "                stratify=stratify,\n",
    "            )\n",
    "            train, valid = split2[0], split2[1]\n",
    "            return [train, valid, test]\n",
    "        else:\n",
    "            return [train, test]"
   ]
  },
  {
   "cell_type": "code",
   "execution_count": null,
   "metadata": {},
   "outputs": [],
   "source": [
    "def train_test_column_split(x, y, df_column):\n",
    "    \"\"\"Function for splitting dataset into train/test partitions w.r.t. a column (pd.Series).\n",
    "    Args:\n",
    "        x (pd.DataFrame): DataFrame containing predictors.\n",
    "        y (pd.DataFrame): DataFrame containing target variable.\n",
    "        df_column (pd.Series): Series for train/test split, assuming it is contained in x.\n",
    "    Returns:\n",
    "        tuple: (x_train, x_test, y_train, y_test).\n",
    "        A tuple of partitions of the initial dataset.\n",
    "    \"\"\"\n",
    "    x1, y1, col_name = x.copy(), y.copy(), df_column.name\n",
    "    y1[col_name] = df_column\n",
    "    return (\n",
    "        x1[x1[col_name] == 'train'].drop(col_name, axis=1),\n",
    "        x1[x1[col_name] == 'test'].drop(col_name, axis=1),\n",
    "        y1[y1[col_name] == 'train'].drop(col_name, axis=1),\n",
    "        y1[y1[col_name] == 'test'].drop(col_name, axis=1),\n",
    "    )"
   ]
  }
 ],
 "metadata": {
  "kernelspec": {
   "display_name": "Python 3",
   "language": "python",
   "name": "python3"
  },
  "language_info": {
   "codemirror_mode": {
    "name": "ipython",
    "version": 3
   },
   "file_extension": ".py",
   "mimetype": "text/x-python",
   "name": "python",
   "nbconvert_exporter": "python",
   "pygments_lexer": "ipython3",
   "version": "3.6.4"
  }
 },
 "nbformat": 4,
 "nbformat_minor": 2
}