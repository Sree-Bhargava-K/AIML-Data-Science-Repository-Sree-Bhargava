{
 "cells": [
  {
   "cell_type": "code",
   "execution_count": null,
   "metadata": {},
   "outputs": [],
   "source": [
    "import pandas as pd"
   ]
  },
  {
   "cell_type": "code",
   "execution_count": null,
   "metadata": {},
   "outputs": [],
   "source": [
    "from insolver import InsolverDataFrame\n",
    "from insolver.transforms import (\n",
    "    TransformExp,\n",
    "    InsolverTransform,\n",
    "    TransformAge,\n",
    "    TransformMapValues,\n",
    "    TransformPolynomizer,\n",
    "    TransformAgeGender,\n",
    ")\n",
    "from insolver.wrappers import InsolverGLMWrapper\n",
    "from insolver.model_tools import download_dataset"
   ]
  },
  {
   "cell_type": "code",
   "execution_count": null,
   "metadata": {},
   "outputs": [],
   "source": [
    "download_dataset('freMPL-R')\n",
    "df = pd.read_csv('./datasets/freMPL-R.csv', low_memory=False)\n",
    "df = df[df.Dataset.isin([5, 6, 7, 8, 9])]\n",
    "df.dropna(how='all', axis=1, inplace=True)\n",
    "df = df[df.ClaimAmount > 0]"
   ]
  },
  {
   "cell_type": "code",
   "execution_count": null,
   "metadata": {},
   "outputs": [],
   "source": [
    "InsDataFrame = InsolverDataFrame(df.copy())"
   ]
  },
  {
   "cell_type": "code",
   "execution_count": null,
   "metadata": {},
   "outputs": [],
   "source": [
    "InsTransforms = InsolverTransform(\n",
    "    InsDataFrame,\n",
    "    [\n",
    "        TransformAge('DrivAge', 18, 75),\n",
    "        TransformExp('LicAge', 57),\n",
    "        TransformMapValues('Gender', {'Male': 0, 'Female': 1}),\n",
    "        TransformMapValues('MariStat', {'Other': 0, 'Alone': 1}),\n",
    "        TransformAgeGender('DrivAge', 'Gender', 'Age_m', 'Age_f', age_default=18, gender_male=0, gender_female=1),\n",
    "        TransformPolynomizer('Age_m'),\n",
    "        TransformPolynomizer('Age_f'),\n",
    "    ],\n",
    ")"
   ]
  },
  {
   "cell_type": "code",
   "execution_count": null,
   "metadata": {},
   "outputs": [],
   "source": [
    "InsTransforms.ins_transform()\n",
    "InsTransforms.save('transforms.pickle')"
   ]
  },
  {
   "cell_type": "code",
   "execution_count": null,
   "metadata": {},
   "outputs": [],
   "source": [
    "train, valid, test = InsTransforms.split_frame(val_size=0.15, test_size=0.15, random_state=0, shuffle=True)\n",
    "features = [\n",
    "    'LicAge',\n",
    "    'Gender',\n",
    "    'MariStat',\n",
    "    'DrivAge',\n",
    "    'HasKmLimit',\n",
    "    'BonusMalus',\n",
    "    'RiskArea',\n",
    "    'Age_m',\n",
    "    'Age_f',\n",
    "    'Age_m_2',\n",
    "    'Age_f_2',\n",
    "]\n",
    "target = 'ClaimAmount'\n",
    "x_train, x_valid, x_test = train[features], valid[features], test[features]\n",
    "y_train, y_valid, y_test = train[target], valid[target], test[target]"
   ]
  },
  {
   "cell_type": "code",
   "execution_count": null,
   "metadata": {},
   "outputs": [],
   "source": [
    "params = {'lambda': [1, 0.5, 0.1, 0.01, 0.001, 0.0001, 0.00001, 0], 'alpha': [i * 0.1 for i in range(0, 11)]}"
   ]
  },
  {
   "cell_type": "code",
   "execution_count": null,
   "metadata": {},
   "outputs": [],
   "source": [
    "df.loc[test.index.tolist()].sample(1).to_json('request_example.json', orient='records')"
   ]
  },
  {
   "cell_type": "code",
   "execution_count": null,
   "metadata": {},
   "outputs": [],
   "source": [
    "iglm = InsolverGLMWrapper(backend='h2o', family='gamma', link='log')\n",
    "iglm.optimize_hyperparam(params, x_train, y_train, X_valid=x_valid, y_valid=y_valid)"
   ]
  },
  {
   "cell_type": "code",
   "execution_count": null,
   "metadata": {},
   "outputs": [],
   "source": [
    "predict_glm = iglm.predict(x_test)\n",
    "iglm.save_model(name='insolver_glm_model')\n",
    "print(predict_glm)"
   ]
  }
 ],
 "metadata": {
  "kernelspec": {
   "display_name": "Python 3",
   "language": "python",
   "name": "python3"
  },
  "language_info": {
   "codemirror_mode": {
    "name": "ipython",
    "version": 3
   },
   "file_extension": ".py",
   "mimetype": "text/x-python",
   "name": "python",
   "nbconvert_exporter": "python",
   "pygments_lexer": "ipython3",
   "version": "3.6.4"
  }
 },
 "nbformat": 4,
 "nbformat_minor": 2
}